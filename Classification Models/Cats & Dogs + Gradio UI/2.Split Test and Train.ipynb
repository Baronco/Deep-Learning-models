{
 "cells": [
  {
   "cell_type": "code",
   "execution_count": 34,
   "metadata": {},
   "outputs": [],
   "source": [
    "import numpy as np\n",
    "import pandas as pd\n",
    "import matplotlib.pyplot as plt\n",
    "import seaborn as sns\n",
    "import tensorflow as tf\n",
    "from tensorflow import keras\n",
    "from keras_preprocessing.image import ImageDataGenerator\n",
    "from glob import glob\n",
    "from tqdm import tqdm\n",
    "from pathlib import Path\n",
    "from keras.models import Sequential\n",
    "from keras.layers import Activation, Dense\n",
    "from tensorflow.keras.layers import Conv2D, MaxPooling2D, Dropout, BatchNormalization, Flatten\n",
    "from sklearn.model_selection import train_test_split\n",
    "from PIL import Image"
   ]
  },
  {
   "cell_type": "markdown",
   "metadata": {},
   "source": [
    "# Parameters"
   ]
  },
  {
   "cell_type": "code",
   "execution_count": 35,
   "metadata": {},
   "outputs": [],
   "source": [
    "# input\n",
    "INPUT = Path(r'D:\\ML Datasets\\kagglecatsanddogs_5340')\n",
    "SPLIT = Path(r'D:\\ML Datasets\\kagglecatsanddogs_5340\\Split')\n",
    "DIM = 'Edited'"
   ]
  },
  {
   "cell_type": "code",
   "execution_count": 36,
   "metadata": {},
   "outputs": [
    {
     "name": "stdout",
     "output_type": "stream",
     "text": [
      "Dogs 12499\n",
      "Cats 12499\n"
     ]
    }
   ],
   "source": [
    "# list of Dog imgs\n",
    "dogs = glob(\n",
    "    str(\n",
    "        Path(\n",
    "            INPUT,\n",
    "            DIM,\n",
    "            'Dog',\n",
    "            '*.jpg'\n",
    "        )\n",
    "    )\n",
    ")\n",
    "\n",
    "# list of Cat imgs\n",
    "cats = glob(\n",
    "    str(\n",
    "        Path(\n",
    "            INPUT,\n",
    "            DIM,\n",
    "            'Cat',\n",
    "            '*.jpg'\n",
    "        )\n",
    "    )\n",
    ")\n",
    "\n",
    "print(f'Dogs {len(dogs)}')\n",
    "print(f'Cats {len(cats)}')"
   ]
  },
  {
   "cell_type": "markdown",
   "metadata": {},
   "source": [
    "# Train and test split"
   ]
  },
  {
   "cell_type": "code",
   "execution_count": 37,
   "metadata": {},
   "outputs": [],
   "source": [
    "dataset = pd.concat(\n",
    "    [\n",
    "        pd.DataFrame(\n",
    "            {\n",
    "                'Path':cats,\n",
    "                'Class':[1]*len(cats)\n",
    "            }\n",
    "        ),\n",
    "        pd.DataFrame(\n",
    "            {\n",
    "                'Path':dogs,\n",
    "                'Class':[0]*len(dogs)\n",
    "            }\n",
    "        )\n",
    "    ]\n",
    ")\n",
    "\n",
    "dataset.reset_index(drop=True, inplace=True)"
   ]
  },
  {
   "cell_type": "code",
   "execution_count": 38,
   "metadata": {},
   "outputs": [],
   "source": [
    "X_train, X_test_val, y_train, y_test_val = train_test_split(\n",
    "    dataset[['Path']], dataset[['Class']], test_size=0.3, random_state=123, stratify= dataset[['Class']]\n",
    "    )"
   ]
  },
  {
   "cell_type": "code",
   "execution_count": 39,
   "metadata": {},
   "outputs": [],
   "source": [
    "X_test, X_val, y_test, y_val = train_test_split(\n",
    "    X_test_val[['Path']], y_test_val[['Class']], test_size=0.7, random_state=123, stratify= y_test_val[['Class']]\n",
    "    )"
   ]
  },
  {
   "cell_type": "code",
   "execution_count": 40,
   "metadata": {},
   "outputs": [
    {
     "data": {
      "text/plain": [
       "(17498, 1)"
      ]
     },
     "execution_count": 40,
     "metadata": {},
     "output_type": "execute_result"
    }
   ],
   "source": [
    "X_train.shape"
   ]
  },
  {
   "cell_type": "code",
   "execution_count": 41,
   "metadata": {},
   "outputs": [
    {
     "data": {
      "text/plain": [
       "(2250, 1)"
      ]
     },
     "execution_count": 41,
     "metadata": {},
     "output_type": "execute_result"
    }
   ],
   "source": [
    "X_test.shape"
   ]
  },
  {
   "cell_type": "code",
   "execution_count": 42,
   "metadata": {},
   "outputs": [
    {
     "data": {
      "text/plain": [
       "(5250, 1)"
      ]
     },
     "execution_count": 42,
     "metadata": {},
     "output_type": "execute_result"
    }
   ],
   "source": [
    "X_val.shape"
   ]
  },
  {
   "cell_type": "markdown",
   "metadata": {},
   "source": [
    "# Train"
   ]
  },
  {
   "cell_type": "code",
   "execution_count": 43,
   "metadata": {},
   "outputs": [
    {
     "name": "stderr",
     "output_type": "stream",
     "text": [
      "17498it [00:56, 308.62it/s]\n"
     ]
    }
   ],
   "source": [
    "# Dogs and cats\n",
    "for idx, row in tqdm(X_train.iterrows()):\n",
    "    image = Image.open(row['Path'])\n",
    "    file_name = row['Path'][len(str(Path(INPUT, DIM,'Dog')))+1:]\n",
    "\n",
    "    if y_train['Class'][idx] == 0:\n",
    "        image.save(\n",
    "            str(\n",
    "                Path(\n",
    "                    SPLIT,\n",
    "                    'Train',\n",
    "                    DIM,\n",
    "                    'Dog',\n",
    "                    file_name \n",
    "                )\n",
    "            )\n",
    "        )\n",
    "    elif y_train['Class'][idx] == 1:\n",
    "        image.save(\n",
    "            str(\n",
    "                Path(\n",
    "                    SPLIT,\n",
    "                    'Train',\n",
    "                    DIM,\n",
    "                    'Cat',\n",
    "                    file_name \n",
    "                )\n",
    "            )\n",
    "        )\n",
    "\n"
   ]
  },
  {
   "cell_type": "markdown",
   "metadata": {},
   "source": [
    "# Test"
   ]
  },
  {
   "cell_type": "code",
   "execution_count": 44,
   "metadata": {},
   "outputs": [
    {
     "name": "stderr",
     "output_type": "stream",
     "text": [
      "2250it [00:06, 330.93it/s]\n"
     ]
    }
   ],
   "source": [
    "# Dogs and cats\n",
    "for idx, row in tqdm(X_test.iterrows()):\n",
    "    image = Image.open(row['Path'])\n",
    "\n",
    "    if y_test['Class'][idx] == 0:\n",
    "        file_name = row['Path'][len(str(Path(INPUT, DIM,'Dog')))+1:]\n",
    "        image.save(\n",
    "            str(\n",
    "                Path(\n",
    "                    SPLIT,\n",
    "                    'Test',\n",
    "                    DIM,\n",
    "                    'Dog',\n",
    "                    file_name \n",
    "                )\n",
    "            )\n",
    "        )\n",
    "    elif y_test['Class'][idx] == 1:\n",
    "        file_name = row['Path'][len(str(Path(INPUT, DIM,'Cat')))+1:]\n",
    "        image.save(\n",
    "            str(\n",
    "                Path(\n",
    "                    SPLIT,\n",
    "                    'Test',\n",
    "                    DIM,\n",
    "                    'Cat',\n",
    "                    file_name \n",
    "                )\n",
    "            )\n",
    "        )"
   ]
  },
  {
   "cell_type": "markdown",
   "metadata": {},
   "source": [
    "# Val"
   ]
  },
  {
   "cell_type": "code",
   "execution_count": 45,
   "metadata": {},
   "outputs": [
    {
     "name": "stderr",
     "output_type": "stream",
     "text": [
      "5250it [00:16, 321.02it/s]\n"
     ]
    }
   ],
   "source": [
    "# Dogs and cats\n",
    "for idx, row in tqdm(X_val.iterrows()):\n",
    "    image = Image.open(row['Path'])\n",
    "\n",
    "    if y_val['Class'][idx] == 0:\n",
    "        file_name = row['Path'][len(str(Path(INPUT, DIM,'Dog')))+1:]\n",
    "        image.save(\n",
    "            str(\n",
    "                Path(\n",
    "                    SPLIT,\n",
    "                    'Val',\n",
    "                    DIM,\n",
    "                    'Dog',\n",
    "                    file_name \n",
    "                )\n",
    "            )\n",
    "        )\n",
    "    elif y_val['Class'][idx] == 1:\n",
    "        file_name = row['Path'][len(str(Path(INPUT, DIM,'Cat')))+1:]\n",
    "        image.save(\n",
    "            str(\n",
    "                Path(\n",
    "                    SPLIT,\n",
    "                    'Val',\n",
    "                    DIM,\n",
    "                    'Cat',\n",
    "                    file_name \n",
    "                )\n",
    "            )\n",
    "        )"
   ]
  }
 ],
 "metadata": {
  "kernelspec": {
   "display_name": "DeepLearningDev",
   "language": "python",
   "name": "python3"
  },
  "language_info": {
   "codemirror_mode": {
    "name": "ipython",
    "version": 3
   },
   "file_extension": ".py",
   "mimetype": "text/x-python",
   "name": "python",
   "nbconvert_exporter": "python",
   "pygments_lexer": "ipython3",
   "version": "3.10.14"
  }
 },
 "nbformat": 4,
 "nbformat_minor": 2
}
