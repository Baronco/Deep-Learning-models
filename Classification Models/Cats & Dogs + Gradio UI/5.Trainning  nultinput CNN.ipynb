{
 "cells": [
  {
   "cell_type": "code",
   "execution_count": 148,
   "metadata": {},
   "outputs": [],
   "source": [
    "import numpy as np\n",
    "import pandas as pd\n",
    "import matplotlib.pyplot as plt\n",
    "import seaborn as sns\n",
    "import tensorflow as tf\n",
    "from tensorflow import keras\n",
    "from keras_preprocessing.image import ImageDataGenerator\n",
    "from glob import glob\n",
    "from tqdm import tqdm\n",
    "from pathlib import Path\n",
    "from keras.models import Sequential, model_from_json\n",
    "from keras.layers import Activation, Dense\n",
    "from tensorflow.keras.layers import Conv2D, MaxPooling2D, Dropout, BatchNormalization, Flatten, concatenate\n",
    "from sklearn.model_selection import train_test_split\n",
    "from PIL import Image\n",
    "from sklearn.metrics import confusion_matrix\n",
    "import itertools\n",
    "from tensorflow.keras.models import Model"
   ]
  },
  {
   "cell_type": "markdown",
   "metadata": {},
   "source": [
    "# Parameters"
   ]
  },
  {
   "cell_type": "code",
   "execution_count": 149,
   "metadata": {},
   "outputs": [],
   "source": [
    "# input\n",
    "INPUT = Path(r'D:\\ML Datasets\\kagglecatsanddogs_5340')\n",
    "OUTPUT_MODEL = Path(r'C:\\Users\\jean-\\OneDrive\\Documentos\\DSProject\\Cats And Dogs Classifier\\Models')\n",
    "SPLIT = Path(r'D:\\ML Datasets\\kagglecatsanddogs_5340\\Split')\n",
    "IMG_WIDTH, IMG_HEIGHT = 256, 256\n",
    "RESCALE_IMG_WIDTH, RESCALE_IMG_HEIGHT = 128, 128"
   ]
  },
  {
   "cell_type": "code",
   "execution_count": 150,
   "metadata": {},
   "outputs": [],
   "source": [
    "def plot_confusion_matrix(cm: np.ndarray,\n",
    "                          target_names: list,\n",
    "                          title: str='Confusion matrix',\n",
    "                          cmap: str=None,\n",
    "                          normalize: bool=True):\n",
    "    '''given a sklearn confusion matrix (cm), make a nice plot\n",
    "\n",
    "    Args:\n",
    "        cm:           confusion matrix from sklearn.metrics.confusion_matrix\n",
    "\n",
    "        target_names: given classification classes such as [0, 1, 2]\n",
    "                      the class names, for example: ['high', 'medium', 'low']\n",
    "\n",
    "        title:        the text to display at the top of the matrix\n",
    "\n",
    "        cmap:         the gradient of the values displayed from matplotlib.pyplot.cm\n",
    "                      see http://matplotlib.org/examples/color/colormaps_reference.html\n",
    "                      plt.get_cmap('jet') or plt.cm.Blues\n",
    "\n",
    "        normalize:    If False, plot the raw numbers\n",
    "                      If True, plot the proportions\n",
    "    '''\n",
    "\n",
    "    accuracy = np.trace(cm) / np.sum(cm).astype('float')\n",
    "    misclass = 1 - accuracy\n",
    "\n",
    "    if cmap is None:\n",
    "        cmap = plt.get_cmap('Blues')\n",
    "\n",
    "    plt.figure(figsize=(5, 4))\n",
    "    plt.imshow(cm, interpolation='nearest', cmap=cmap)\n",
    "    plt.title(title)\n",
    "    plt.colorbar()\n",
    "\n",
    "    if target_names is not None:\n",
    "        tick_marks = np.arange(len(target_names))\n",
    "        plt.xticks(tick_marks, target_names, rotation=45)\n",
    "        plt.yticks(tick_marks, target_names)\n",
    "\n",
    "    if normalize:\n",
    "        cm = cm.astype('float') / cm.sum(axis=1)[:, np.newaxis]\n",
    "\n",
    "\n",
    "    thresh = cm.max() / 1.5 if normalize else cm.max() / 2\n",
    "    for i, j in itertools.product(range(cm.shape[0]), range(cm.shape[1])):\n",
    "        if normalize:\n",
    "            plt.text(j, i, \"{:0.4f}\".format(cm[i, j]),\n",
    "                     horizontalalignment=\"center\",\n",
    "                     color=\"white\" if cm[i, j] > thresh else \"black\")\n",
    "        else:\n",
    "            plt.text(j, i, \"{:,}\".format(cm[i, j]),\n",
    "                     horizontalalignment=\"center\",\n",
    "                     color=\"white\" if cm[i, j] > thresh else \"black\")\n",
    "\n",
    "\n",
    "    plt.tight_layout()\n",
    "    plt.ylabel('True label')\n",
    "    plt.xlabel('Predicted label\\naccuracy={:0.4f}; misclass={:0.4f}'.format(accuracy, misclass))\n",
    "    plt.show()"
   ]
  },
  {
   "cell_type": "code",
   "execution_count": 177,
   "metadata": {},
   "outputs": [],
   "source": [
    "def dataset(test_dataset, folder):\n",
    "    cats = glob(\n",
    "        str(\n",
    "            Path(\n",
    "                test_dataset,\n",
    "                folder,\n",
    "                'Cat',\n",
    "                '*.jpg'\n",
    "            )\n",
    "        )\n",
    "    )\n",
    "\n",
    "    dogs = glob(\n",
    "        str(\n",
    "            Path(\n",
    "                test_dataset,\n",
    "                folder,\n",
    "                'Dog',\n",
    "                '*.jpg'\n",
    "            )\n",
    "        )\n",
    "    )\n",
    "\n",
    "    dataset = pd.concat(\n",
    "        [\n",
    "            pd.DataFrame(\n",
    "                {\n",
    "                    'path':cats,\n",
    "                    'class':[1]*len(cats),\n",
    "                    'file_name': [path[ len( str(Path(test_dataset,folder,'Cat')))+1:] for path in cats]\n",
    "                }\n",
    "            ),\n",
    "            pd.DataFrame(\n",
    "                {\n",
    "                    'path':dogs,\n",
    "                    'class':[0]*len(dogs),\n",
    "                    'file_name': [path[ len( str(Path(test_dataset,folder,'Dog')))+1:] for path in dogs]\n",
    "                }\n",
    "            )\n",
    "        ]\n",
    "    )\n",
    "\n",
    "    dataset.sort_values(by=['class','file_name'], inplace=True)\n",
    "\n",
    "    # list\n",
    "    X_test = []\n",
    "    y_test = []\n",
    "\n",
    "    for idx, row in dataset.iterrows():\n",
    "        img = Image.open(row['path'])\n",
    "        img = img.resize((RESCALE_IMG_WIDTH, RESCALE_IMG_HEIGHT))\n",
    "        img = np.array(img)\n",
    "        img = img * (1/255)\n",
    "        if folder == 'Depth Map':\n",
    "            img = np.expand_dims(img, -1)\n",
    "        elif folder == 'Color':\n",
    "            #img = np.expand_dims(img, 3)\n",
    "            pass\n",
    "\n",
    "        X_test.append(img)\n",
    "        y_test.append(row['class'])\n",
    "\n",
    "\n",
    "    X_test = np.array(X_test)\n",
    "    y_test = np.array(y_test)\n",
    "    y_test = np.expand_dims(y_test, -1)\n",
    "\n",
    "    return X_test,  y_test\n",
    "\n"
   ]
  },
  {
   "cell_type": "code",
   "execution_count": 185,
   "metadata": {},
   "outputs": [],
   "source": [
    "def evaluation(model_path, model_name, test_dataset):\n",
    "    # load json and create model\n",
    "    json_file = open(str(Path(model_path , f'{model_name}.json')), 'r')\n",
    "    loaded_model_json = json_file.read()\n",
    "    json_file.close()\n",
    "\n",
    "    model = model_from_json(loaded_model_json)\n",
    "    # load weights into new model\n",
    "    model.load_weights(str(Path(model_path, f'{model_name}.h5')))\n",
    "    print(\"Loaded model from disk\") \n",
    "\n",
    "    ####################### Datasets\n",
    "\n",
    "    X_test_color, y_test_color = dataset(test_dataset, folder='Color')\n",
    "    X_test_depth, y_test_depth = dataset(test_dataset, folder='Edited')\n",
    "   \n",
    "\n",
    "    ################################################# Predictions\n",
    "    with tf.device('/device:GPU:0'):\n",
    "     y_predictions = model.predict(x=[X_test_color, X_test_depth])\n",
    "\n",
    "    THRESHOLD = 0.5\n",
    "    y_predict_class = []\n",
    "  \n",
    "    for prob in y_predictions:\n",
    "\n",
    "        clase = np.argmax(prob)\n",
    "        if clase == 1:\n",
    "            y_predict_class.append(1)\n",
    "        elif clase == 0:\n",
    "            y_predict_class.append(0)\n",
    "    \n",
    "    confusion_matrix(\n",
    "            y_true = y_test_color.reshape(-1), \n",
    "            y_pred = y_predict_class\n",
    "        )\n",
    "\n",
    "    tn, fp, fn, tp = confusion_matrix(\n",
    "        y_true = y_test_color.reshape(-1), \n",
    "        y_pred = y_predict_class).ravel()\n",
    "    \n",
    "    recall_cats    = tp / (tp + fn)\n",
    "    precision_cats = tp / (tp + fp)\n",
    "    fscore_cats =  (2*recall_cats*precision_cats) /  (recall_cats + precision_cats)\n",
    "\n",
    "    recall_dogs    = tn / (fp + tn)\n",
    "    precision_dogs = tn / (tn + fn)\n",
    "    fscore_dogs =  (2*recall_dogs*precision_dogs) /  (recall_dogs + precision_dogs)\n",
    "\n",
    "    accuracy = (tp + tn) / sum([tn, fp, fn, tp])\n",
    "\n",
    "    plot_confusion_matrix(\n",
    "        cm = confusion_matrix(\n",
    "            y_true = y_test_color.reshape(-1), \n",
    "            y_pred = y_predict_class), \n",
    "        target_names=['0','1'],\n",
    "        normalize=False,\n",
    "        title='Matriz de Confusión: Clase Cat (1) & Clase Dog (0)',\n",
    "        cmap=plt.cm.Blues\n",
    "        )\n",
    "    \n",
    "    print(f'Recall Cat {recall_cats:,.2f}')\n",
    "    print(f'Precision Cat {precision_cats:,.2f}')\n",
    "    print(f'Fscore Cat {fscore_cats:,.2f}')\n",
    "    print('--------------------------------')\n",
    "    print(f'Recall Dog {recall_dogs:,.2f}')\n",
    "    print(f'Precision Dog {precision_dogs:,.2f}')\n",
    "    print(f'Fscore Dog {fscore_dogs:,.2f}')\n",
    "    print('--------------------------------')\n",
    "    print(f'Accuracy {accuracy:,.2f}')"
   ]
  },
  {
   "cell_type": "markdown",
   "metadata": {},
   "source": [
    "# Dataset"
   ]
  },
  {
   "cell_type": "code",
   "execution_count": 153,
   "metadata": {},
   "outputs": [],
   "source": [
    "# create a data generator\n",
    "datagenTrain_color = ImageDataGenerator(\n",
    "    rescale = 1./255,\n",
    "    rotation_range=25,\n",
    "    horizontal_flip=True,\n",
    "    # vertical_flip=True,\n",
    "    zoom_range=[0.9, 1.2],\n",
    "    brightness_range =[0.7,1.3],\n",
    "    width_shift_range=0.05,\n",
    "    height_shift_range=0.05,\n",
    "    fill_mode='nearest'\n",
    "    )\n",
    "datagenTest_color = ImageDataGenerator(rescale = 1./255)\n",
    "datagenVal_color = ImageDataGenerator(rescale = 1./255)\n",
    "\n",
    "\n",
    "# create a data generator\n",
    "datagenTrain_depth = ImageDataGenerator(\n",
    "    rescale = 1./255,\n",
    "    rotation_range=20,\n",
    "    horizontal_flip=True,\n",
    "    # vertical_flip=True,\n",
    "    zoom_range=[0.9, 1.2],\n",
    "    brightness_range =[0.7,1.3],\n",
    "    width_shift_range=0.05,\n",
    "    height_shift_range=0.05,\n",
    "    fill_mode='nearest'\n",
    "    )\n",
    "datagenTest_depth = ImageDataGenerator(rescale = 1./255)\n",
    "datagenVal_depth = ImageDataGenerator(rescale = 1./255)"
   ]
  },
  {
   "cell_type": "code",
   "execution_count": 154,
   "metadata": {},
   "outputs": [],
   "source": [
    "ImageGeneratorSeed = 12345"
   ]
  },
  {
   "cell_type": "code",
   "execution_count": 155,
   "metadata": {},
   "outputs": [],
   "source": [
    "BATCH = 32"
   ]
  },
  {
   "cell_type": "markdown",
   "metadata": {},
   "source": [
    "# Color datagen"
   ]
  },
  {
   "cell_type": "code",
   "execution_count": 156,
   "metadata": {},
   "outputs": [
    {
     "name": "stdout",
     "output_type": "stream",
     "text": [
      "rgb\n",
      "Color\n",
      "Found 17498 images belonging to 2 classes.\n",
      "Found 2250 images belonging to 2 classes.\n",
      "Found 5250 images belonging to 2 classes.\n"
     ]
    }
   ],
   "source": [
    "DIM = 'Color'\n",
    "color_mode='rgb'\n",
    "color_dim = 3\n",
    "\n",
    "print(color_mode)\n",
    "print(DIM)\n",
    "\n",
    "#loading data\n",
    "train_generator_color = datagenTrain_color.flow_from_directory(\n",
    "    directory = str(Path(SPLIT,'Train',DIM)),\n",
    "    classes=['Dog','Cat'],\n",
    "    class_mode='categorical',\n",
    "    batch_size=BATCH,\n",
    "    target_size=(RESCALE_IMG_WIDTH, RESCALE_IMG_HEIGHT),\n",
    "    color_mode=color_mode,\n",
    "    shuffle=False,\n",
    "    seed=ImageGeneratorSeed\n",
    ")\n",
    "\n",
    "test_generator_color = datagenTest_color.flow_from_directory(\n",
    "    directory = str(Path(SPLIT,'Test',DIM)),\n",
    "    classes=['Dog','Cat'],\n",
    "    class_mode='categorical',\n",
    "    batch_size=BATCH,\n",
    "    target_size=(RESCALE_IMG_WIDTH, RESCALE_IMG_HEIGHT),\n",
    "    color_mode=color_mode,\n",
    "    shuffle=False,\n",
    "    seed=ImageGeneratorSeed\n",
    ")\n",
    "\n",
    "val_generator_color = datagenVal_color.flow_from_directory(\n",
    "    directory = str(Path(SPLIT,'Val',DIM)),\n",
    "    classes=['Dog','Cat'],\n",
    "    class_mode='categorical',\n",
    "    batch_size=BATCH,\n",
    "    target_size=(RESCALE_IMG_WIDTH, RESCALE_IMG_HEIGHT),\n",
    "    color_mode=color_mode,\n",
    "    shuffle=False,\n",
    "    seed=ImageGeneratorSeed\n",
    ")"
   ]
  },
  {
   "cell_type": "markdown",
   "metadata": {},
   "source": [
    "# Depth datagen"
   ]
  },
  {
   "cell_type": "code",
   "execution_count": 157,
   "metadata": {},
   "outputs": [
    {
     "name": "stdout",
     "output_type": "stream",
     "text": [
      "rgb\n",
      "Edited\n",
      "Found 17498 images belonging to 2 classes.\n",
      "Found 2250 images belonging to 2 classes.\n",
      "Found 5250 images belonging to 2 classes.\n"
     ]
    }
   ],
   "source": [
    "DIM = 'Edited'\n",
    "color_mode='rgb'\n",
    "color_dim = 3\n",
    "\n",
    "\n",
    "print(color_mode)\n",
    "print(DIM)\n",
    "\n",
    "#loading data\n",
    "train_generator_depth = datagenTrain_depth.flow_from_directory(\n",
    "    directory = str(Path(SPLIT,'Train',DIM)),\n",
    "    classes=['Dog','Cat'],\n",
    "    class_mode='categorical',\n",
    "    batch_size=BATCH,\n",
    "    target_size=(RESCALE_IMG_WIDTH, RESCALE_IMG_HEIGHT),\n",
    "    color_mode=color_mode,\n",
    "    shuffle=False,\n",
    "    seed=ImageGeneratorSeed\n",
    ")\n",
    "\n",
    "test_generator_depth = datagenTest_depth.flow_from_directory(\n",
    "    directory = str(Path(SPLIT,'Test',DIM)),\n",
    "    classes=['Dog','Cat'],\n",
    "    class_mode='categorical',\n",
    "    batch_size=BATCH,\n",
    "    target_size=(RESCALE_IMG_WIDTH, RESCALE_IMG_HEIGHT),\n",
    "    color_mode=color_mode,\n",
    "    shuffle=False,\n",
    "    seed=ImageGeneratorSeed\n",
    ")\n",
    "\n",
    "val_generator_depth = datagenVal_depth.flow_from_directory(\n",
    "    directory = str(Path(SPLIT,'Val',DIM)),\n",
    "    classes=['Dog','Cat'],\n",
    "    class_mode='categorical',\n",
    "    batch_size=BATCH,\n",
    "    target_size=(RESCALE_IMG_WIDTH, RESCALE_IMG_HEIGHT),\n",
    "    color_mode=color_mode,\n",
    "    shuffle=False,\n",
    "    seed=ImageGeneratorSeed\n",
    ")"
   ]
  },
  {
   "cell_type": "code",
   "execution_count": 158,
   "metadata": {},
   "outputs": [],
   "source": [
    "class DualInputGenerator:\n",
    "    def __init__(self, generator1, generator2):\n",
    "        self.generator1 = generator1\n",
    "        self.generator2 = generator2\n",
    "\n",
    "    def __len__(self):\n",
    "        return min(len(self.generator1), len(self.generator2))\n",
    "\n",
    "    def __iter__(self):\n",
    "        return self\n",
    "\n",
    "    def __next__(self):\n",
    "        X1, y1 = next(self.generator1)\n",
    "        X2, y2 = next(self.generator2)\n",
    "        \n",
    "        # Ensure the labels are the same\n",
    "        assert np.array_equal(y1, y2), \"Labels do not match in the generators\"\n",
    "        return [X1, X2], y1\n",
    "\n",
    "\n",
    "\n",
    "\n",
    "train_generator = DualInputGenerator(train_generator_color, train_generator_depth)\n",
    "val_generator = DualInputGenerator(val_generator_color, val_generator_depth)\n"
   ]
  },
  {
   "cell_type": "code",
   "execution_count": 159,
   "metadata": {},
   "outputs": [],
   "source": [
    "test_generator = DualInputGenerator(test_generator_color, test_generator_depth)"
   ]
  },
  {
   "cell_type": "markdown",
   "metadata": {},
   "source": [
    "# GPU Configs"
   ]
  },
  {
   "cell_type": "code",
   "execution_count": 160,
   "metadata": {},
   "outputs": [
    {
     "data": {
      "text/plain": [
       "[PhysicalDevice(name='/physical_device:GPU:0', device_type='GPU')]"
      ]
     },
     "execution_count": 160,
     "metadata": {},
     "output_type": "execute_result"
    }
   ],
   "source": [
    "tf.config.list_physical_devices('GPU')"
   ]
  },
  {
   "cell_type": "code",
   "execution_count": 161,
   "metadata": {},
   "outputs": [
    {
     "name": "stdout",
     "output_type": "stream",
     "text": [
      "1 Physical GPUs, 1 Logical GPUs\n"
     ]
    }
   ],
   "source": [
    "gpus = tf.config.list_physical_devices('GPU')\n",
    "if gpus:\n",
    "  # Restrict TensorFlow to only allocate 1GB of memory on the first GPU\n",
    "  try:\n",
    "    tf.config.set_logical_device_configuration(\n",
    "        gpus[0],\n",
    "        [tf.config.LogicalDeviceConfiguration(memory_limit=1024*10)])\n",
    "    logical_gpus = tf.config.list_logical_devices('GPU')\n",
    "    print(len(gpus), \"Physical GPUs,\", len(logical_gpus), \"Logical GPUs\")\n",
    "  except RuntimeError as e:\n",
    "    # Virtual devices must be set before GPUs have been initialized\n",
    "    print(e)"
   ]
  },
  {
   "cell_type": "markdown",
   "metadata": {},
   "source": [
    "## CNN"
   ]
  },
  {
   "cell_type": "code",
   "execution_count": 162,
   "metadata": {},
   "outputs": [
    {
     "name": "stdout",
     "output_type": "stream",
     "text": [
      "Loaded model from disk\n"
     ]
    }
   ],
   "source": [
    "model_path = Path(r'C:\\Users\\jean-\\OneDrive\\Documentos\\DSProject\\Cats And Dogs Classifier\\Models')\n",
    "model_name = 'Model_Color_128_128'\n",
    "\n",
    "# load json and create model\n",
    "json_file = open(str(Path(model_path , f'{model_name}.json')), 'r')\n",
    "loaded_model_json = json_file.read()\n",
    "json_file.close()\n",
    "\n",
    "model_color = model_from_json(loaded_model_json)\n",
    "# load weights into new model\n",
    "model_color.load_weights(str(Path(model_path, f'{model_name}.h5')))\n",
    "print(\"Loaded model from disk\") "
   ]
  },
  {
   "cell_type": "code",
   "execution_count": 163,
   "metadata": {},
   "outputs": [
    {
     "name": "stdout",
     "output_type": "stream",
     "text": [
      "Loaded model from disk\n"
     ]
    }
   ],
   "source": [
    "model_path = Path(r'C:\\Users\\jean-\\OneDrive\\Documentos\\DSProject\\Cats And Dogs Classifier\\Models')\n",
    "model_name = 'Model_Edited_128_128'\n",
    "\n",
    "# load json and create model\n",
    "json_file = open(str(Path(model_path , f'{model_name}.json')), 'r')\n",
    "loaded_model_json = json_file.read()\n",
    "json_file.close()\n",
    "\n",
    "model_depth = model_from_json(loaded_model_json)\n",
    "# load weights into new model\n",
    "model_depth.load_weights(str(Path(model_path, f'{model_name}.h5')))\n",
    "print(\"Loaded model from disk\") "
   ]
  },
  {
   "cell_type": "markdown",
   "metadata": {},
   "source": [
    "# Fine-Tuning"
   ]
  },
  {
   "cell_type": "code",
   "execution_count": 164,
   "metadata": {},
   "outputs": [],
   "source": [
    "# for layer in model_depth.layers:\n",
    "#     print(layer.name)"
   ]
  },
  {
   "cell_type": "code",
   "execution_count": 165,
   "metadata": {},
   "outputs": [],
   "source": [
    "# color_layers = [\n",
    "#     # 'dense_45',\n",
    "#     # 'dropout_115',\n",
    "#     # 'dense_46',\n",
    "#     # 'batch_normalization_100',\n",
    "#     # 'dropout_116',\n",
    "#     'dense_47'\n",
    "# ]"
   ]
  },
  {
   "cell_type": "code",
   "execution_count": 166,
   "metadata": {},
   "outputs": [],
   "source": [
    "# depth_layers = [\n",
    "#     # 'dense',\n",
    "#     # 'dropout_6',\n",
    "#     # 'dense_1',\n",
    "#     # 'batch_normalization_6',\n",
    "#     # 'dropout_7',\n",
    "#     'dense_2'\n",
    "# ]"
   ]
  },
  {
   "cell_type": "markdown",
   "metadata": {},
   "source": [
    "# Multi Input model"
   ]
  },
  {
   "cell_type": "code",
   "execution_count": 167,
   "metadata": {},
   "outputs": [],
   "source": [
    "initializer = keras.initializers.GlorotUniform(seed=123456)"
   ]
  },
  {
   "cell_type": "code",
   "execution_count": 168,
   "metadata": {},
   "outputs": [],
   "source": [
    "# -len(color_layers)"
   ]
  },
  {
   "cell_type": "code",
   "execution_count": 169,
   "metadata": {},
   "outputs": [],
   "source": [
    "# model_color.pop()"
   ]
  },
  {
   "cell_type": "code",
   "execution_count": 170,
   "metadata": {},
   "outputs": [
    {
     "name": "stdout",
     "output_type": "stream",
     "text": [
      "Model: \"Dogs_Cats_Multi_input\"\n",
      "__________________________________________________________________________________________________\n",
      " Layer (type)                   Output Shape         Param #     Connected to                     \n",
      "==================================================================================================\n",
      " input_13 (InputLayer)          [(None, 128, 128, 3  0           []                               \n",
      "                                )]                                                                \n",
      "                                                                                                  \n",
      " input_14 (InputLayer)          [(None, 128, 128, 3  0           []                               \n",
      "                                )]                                                                \n",
      "                                                                                                  \n",
      " model_12 (Functional)          (None, 128)          699008      ['input_13[0][0]']               \n",
      "                                                                                                  \n",
      " model_13 (Functional)          (None, 32)           521760      ['input_14[0][0]']               \n",
      "                                                                                                  \n",
      " concatenate_6 (Concatenate)    (None, 160)          0           ['model_12[0][0]',               \n",
      "                                                                  'model_13[0][0]']               \n",
      "                                                                                                  \n",
      " dense_14 (Dense)               (None, 2)            322         ['concatenate_6[0][0]']          \n",
      "                                                                                                  \n",
      "==================================================================================================\n",
      "Total params: 1,221,090\n",
      "Trainable params: 322\n",
      "Non-trainable params: 1,220,768\n",
      "__________________________________________________________________________________________________\n"
     ]
    },
    {
     "data": {
      "text/plain": [
       "None"
      ]
     },
     "metadata": {},
     "output_type": "display_data"
    }
   ],
   "source": [
    "# set false\n",
    "model_depth.trainable = False\n",
    "model_color.trainable = False\n",
    "\n",
    "# Crear la red multinput\n",
    "input_color = tf.keras.Input(shape=(RESCALE_IMG_WIDTH, RESCALE_IMG_HEIGHT,3,))\n",
    "input_depth = tf.keras.Input(shape=(RESCALE_IMG_WIDTH, RESCALE_IMG_HEIGHT,3,))\n",
    "\n",
    "# Get the output of the seventh layer for each model\n",
    "# color_output = model_color.layers[-len(color_layers)].output  # Adjust the index if needed\n",
    "# depth_output = model_depth.layers[-len(depth_layers)].output  # Adjust the index if needed\n",
    "\n",
    "model_color.pop()\n",
    "model_depth.pop()\n",
    "\n",
    "# Get the output of the seventh layer for each model\n",
    "color_output = model_color.output  # Adjust the index if needed\n",
    "depth_output = model_depth.output  # Adjust the index if needed\n",
    "\n",
    "# Create new models with the desired output\n",
    "color_model = Model(inputs=model_color.input, outputs=color_output)\n",
    "depth_model = Model(inputs=model_depth.input, outputs=depth_output)\n",
    "\n",
    "# Now, use color_model and depth_model to get the outputs of the seventh layer\n",
    "color_features = color_model(input_color)\n",
    "depth_features = depth_model(input_depth)\n",
    "\n",
    "# Combine the features\n",
    "combined = concatenate([color_features, depth_features])\n",
    "\n",
    "\n",
    "\n",
    "# output = Dense(128, activation=\"relu\", kernel_initializer=initializer)(combined)\n",
    "# output = BatchNormalization()(output)\n",
    "# output = Dropout(0.25)(output)\n",
    "# output = Dense(64, activation=\"relu\", kernel_initializer=initializer)(output)\n",
    "# output = BatchNormalization()(output)\n",
    "# output = Dropout(0.25)(output)\n",
    "output = Dense(2, activation=\"softmax\", kernel_initializer=initializer)(combined)\n",
    "\n",
    "\n",
    "# model\n",
    "multi_input_model = tf.keras.Model(inputs=[input_color, input_depth], outputs=output, name='Dogs_Cats_Multi_input')\n",
    "display(multi_input_model.summary())\n"
   ]
  },
  {
   "cell_type": "code",
   "execution_count": 171,
   "metadata": {},
   "outputs": [],
   "source": [
    "optimizer = tf.keras.optimizers.Adam(learning_rate=0.001)\n",
    "\n",
    "multi_input_model.compile(\n",
    "    optimizer=optimizer,\n",
    "    loss='categorical_crossentropy',\n",
    "    metrics='accuracy'\n",
    "    )\n",
    "\n",
    "# reduce_lr = tf.keras.callbacks.LearningRateScheduler(\n",
    "#     lambda x: 0.001*0.9**x\n",
    "# )\n",
    "\n",
    "\n",
    "reduce_lr_on_plateau = keras.callbacks.ReduceLROnPlateau(\n",
    "    monitor=\"val_loss\",\n",
    "    factor=0.1,\n",
    "    patience=6,\n",
    "    verbose=0,\n",
    "    mode=\"auto\",\n",
    "    min_delta=0.0001,\n",
    "    cooldown=0,\n",
    "    min_lr=0.0,\n",
    ")\n",
    "\n",
    "\n",
    "early_stop = tf.keras.callbacks.EarlyStopping(\n",
    "    monitor='val_loss',\n",
    "    patience=15\n",
    ")"
   ]
  },
  {
   "cell_type": "code",
   "execution_count": 172,
   "metadata": {},
   "outputs": [
    {
     "name": "stdout",
     "output_type": "stream",
     "text": [
      "steps_per_epoch   546\n",
      "validation_steps  164\n"
     ]
    }
   ],
   "source": [
    "# Assuming you know the total number of samples and batch size\n",
    "train_samples = train_generator_depth.samples  # Total number of training samples\n",
    "val_samples = val_generator_depth.samples      # Total number of validation samples\n",
    "batch_size = BATCH          # Batch size used in the generators\n",
    "\n",
    "steps_per_epoch = train_samples // batch_size\n",
    "validation_steps = val_samples // batch_size\n",
    "\n",
    "\n",
    "print('steps_per_epoch  ',steps_per_epoch )\n",
    "print('validation_steps ',validation_steps)"
   ]
  },
  {
   "cell_type": "code",
   "execution_count": 173,
   "metadata": {},
   "outputs": [
    {
     "name": "stdout",
     "output_type": "stream",
     "text": [
      "Epoch 1/100\n",
      "546/546 [==============================] - 149s 270ms/step - loss: 0.1236 - accuracy: 0.9500 - val_loss: 0.2065 - val_accuracy: 0.9314 - lr: 0.0010\n",
      "Epoch 2/100\n",
      "546/546 [==============================] - 127s 232ms/step - loss: 0.0691 - accuracy: 0.9749 - val_loss: 0.2366 - val_accuracy: 0.9259 - lr: 0.0010\n",
      "Epoch 3/100\n",
      "546/546 [==============================] - 126s 231ms/step - loss: 0.0588 - accuracy: 0.9790 - val_loss: 0.2753 - val_accuracy: 0.9162 - lr: 0.0010\n",
      "Epoch 4/100\n",
      "546/546 [==============================] - 125s 230ms/step - loss: 0.0609 - accuracy: 0.9803 - val_loss: 0.3047 - val_accuracy: 0.9070 - lr: 0.0010\n",
      "Epoch 5/100\n",
      "546/546 [==============================] - 126s 232ms/step - loss: 0.0561 - accuracy: 0.9812 - val_loss: 0.3268 - val_accuracy: 0.9042 - lr: 0.0010\n",
      "Epoch 6/100\n",
      "546/546 [==============================] - 126s 232ms/step - loss: 0.0562 - accuracy: 0.9810 - val_loss: 0.3401 - val_accuracy: 0.9007 - lr: 0.0010\n",
      "Epoch 7/100\n",
      "546/546 [==============================] - 134s 246ms/step - loss: 0.0554 - accuracy: 0.9827 - val_loss: 0.3550 - val_accuracy: 0.9000 - lr: 0.0010\n",
      "Epoch 8/100\n",
      "546/546 [==============================] - 137s 252ms/step - loss: 0.1771 - accuracy: 0.9385 - val_loss: 0.1269 - val_accuracy: 0.9518 - lr: 1.0000e-04\n",
      "Epoch 9/100\n",
      "546/546 [==============================] - 132s 242ms/step - loss: 0.1033 - accuracy: 0.9606 - val_loss: 0.1150 - val_accuracy: 0.9550 - lr: 1.0000e-04\n",
      "Epoch 10/100\n",
      "546/546 [==============================] - 125s 230ms/step - loss: 0.0953 - accuracy: 0.9615 - val_loss: 0.1147 - val_accuracy: 0.9546 - lr: 1.0000e-04\n",
      "Epoch 11/100\n",
      "546/546 [==============================] - 125s 230ms/step - loss: 0.0936 - accuracy: 0.9638 - val_loss: 0.1151 - val_accuracy: 0.9543 - lr: 1.0000e-04\n",
      "Epoch 12/100\n",
      "546/546 [==============================] - 125s 230ms/step - loss: 0.0940 - accuracy: 0.9612 - val_loss: 0.1165 - val_accuracy: 0.9548 - lr: 1.0000e-04\n",
      "Epoch 13/100\n",
      "546/546 [==============================] - 125s 229ms/step - loss: 0.0969 - accuracy: 0.9622 - val_loss: 0.1165 - val_accuracy: 0.9539 - lr: 1.0000e-04\n",
      "Epoch 14/100\n",
      "546/546 [==============================] - 125s 229ms/step - loss: 0.0961 - accuracy: 0.9618 - val_loss: 0.1163 - val_accuracy: 0.9535 - lr: 1.0000e-04\n",
      "Epoch 15/100\n",
      "546/546 [==============================] - 126s 231ms/step - loss: 0.0951 - accuracy: 0.9634 - val_loss: 0.1149 - val_accuracy: 0.9537 - lr: 1.0000e-04\n",
      "Epoch 16/100\n",
      "546/546 [==============================] - 126s 231ms/step - loss: 0.0975 - accuracy: 0.9613 - val_loss: 0.1183 - val_accuracy: 0.9518 - lr: 1.0000e-04\n",
      "Epoch 17/100\n",
      "546/546 [==============================] - 125s 229ms/step - loss: 0.1143 - accuracy: 0.9535 - val_loss: 0.1126 - val_accuracy: 0.9539 - lr: 1.0000e-05\n",
      "Epoch 18/100\n",
      "546/546 [==============================] - 128s 235ms/step - loss: 0.1042 - accuracy: 0.9577 - val_loss: 0.1088 - val_accuracy: 0.9554 - lr: 1.0000e-05\n",
      "Epoch 19/100\n",
      "546/546 [==============================] - 138s 253ms/step - loss: 0.1002 - accuracy: 0.9602 - val_loss: 0.1063 - val_accuracy: 0.9571 - lr: 1.0000e-05\n",
      "Epoch 20/100\n",
      "546/546 [==============================] - 127s 233ms/step - loss: 0.1017 - accuracy: 0.9580 - val_loss: 0.1047 - val_accuracy: 0.9575 - lr: 1.0000e-05\n",
      "Epoch 21/100\n",
      "546/546 [==============================] - 126s 231ms/step - loss: 0.0989 - accuracy: 0.9610 - val_loss: 0.1036 - val_accuracy: 0.9573 - lr: 1.0000e-05\n",
      "Epoch 22/100\n",
      "546/546 [==============================] - 126s 231ms/step - loss: 0.0988 - accuracy: 0.9606 - val_loss: 0.1027 - val_accuracy: 0.9579 - lr: 1.0000e-05\n",
      "Epoch 23/100\n",
      "546/546 [==============================] - 125s 230ms/step - loss: 0.1032 - accuracy: 0.9585 - val_loss: 0.1021 - val_accuracy: 0.9579 - lr: 1.0000e-05\n",
      "Epoch 24/100\n",
      "546/546 [==============================] - 125s 230ms/step - loss: 0.1006 - accuracy: 0.9591 - val_loss: 0.1018 - val_accuracy: 0.9577 - lr: 1.0000e-05\n",
      "Epoch 25/100\n",
      "546/546 [==============================] - 125s 229ms/step - loss: 0.0977 - accuracy: 0.9615 - val_loss: 0.1016 - val_accuracy: 0.9577 - lr: 1.0000e-05\n",
      "Epoch 26/100\n",
      "546/546 [==============================] - 126s 231ms/step - loss: 0.0993 - accuracy: 0.9616 - val_loss: 0.1013 - val_accuracy: 0.9575 - lr: 1.0000e-05\n",
      "Epoch 27/100\n",
      "546/546 [==============================] - 133s 243ms/step - loss: 0.0992 - accuracy: 0.9590 - val_loss: 0.1013 - val_accuracy: 0.9577 - lr: 1.0000e-05\n",
      "Epoch 28/100\n",
      "546/546 [==============================] - 129s 237ms/step - loss: 0.0969 - accuracy: 0.9611 - val_loss: 0.1012 - val_accuracy: 0.9577 - lr: 1.0000e-05\n",
      "Epoch 29/100\n",
      "546/546 [==============================] - 127s 233ms/step - loss: 0.0978 - accuracy: 0.9606 - val_loss: 0.1011 - val_accuracy: 0.9581 - lr: 1.0000e-05\n",
      "Epoch 30/100\n",
      "546/546 [==============================] - 128s 236ms/step - loss: 0.0954 - accuracy: 0.9610 - val_loss: 0.1011 - val_accuracy: 0.9581 - lr: 1.0000e-05\n",
      "Epoch 31/100\n",
      "546/546 [==============================] - 127s 233ms/step - loss: 0.0943 - accuracy: 0.9619 - val_loss: 0.1010 - val_accuracy: 0.9585 - lr: 1.0000e-05\n",
      "Epoch 32/100\n",
      "546/546 [==============================] - 137s 251ms/step - loss: 0.0968 - accuracy: 0.9613 - val_loss: 0.1010 - val_accuracy: 0.9583 - lr: 1.0000e-05\n",
      "Epoch 33/100\n",
      "546/546 [==============================] - 137s 251ms/step - loss: 0.0982 - accuracy: 0.9606 - val_loss: 0.1009 - val_accuracy: 0.9585 - lr: 1.0000e-05\n",
      "Epoch 34/100\n",
      "546/546 [==============================] - 135s 249ms/step - loss: 0.0982 - accuracy: 0.9606 - val_loss: 0.1008 - val_accuracy: 0.9587 - lr: 1.0000e-05\n",
      "Epoch 35/100\n",
      "546/546 [==============================] - 133s 243ms/step - loss: 0.0957 - accuracy: 0.9613 - val_loss: 0.1008 - val_accuracy: 0.9585 - lr: 1.0000e-05\n",
      "Epoch 36/100\n",
      "546/546 [==============================] - 126s 231ms/step - loss: 0.0932 - accuracy: 0.9627 - val_loss: 0.1008 - val_accuracy: 0.9587 - lr: 1.0000e-05\n",
      "Epoch 37/100\n",
      "546/546 [==============================] - 130s 239ms/step - loss: 0.0982 - accuracy: 0.9607 - val_loss: 0.1008 - val_accuracy: 0.9585 - lr: 1.0000e-05\n",
      "Epoch 38/100\n",
      "546/546 [==============================] - 133s 244ms/step - loss: 0.0993 - accuracy: 0.9596 - val_loss: 0.1007 - val_accuracy: 0.9583 - lr: 1.0000e-05\n",
      "Epoch 39/100\n",
      "546/546 [==============================] - 141s 259ms/step - loss: 0.0943 - accuracy: 0.9620 - val_loss: 0.1008 - val_accuracy: 0.9583 - lr: 1.0000e-05\n",
      "Epoch 40/100\n",
      "546/546 [==============================] - 130s 239ms/step - loss: 0.0984 - accuracy: 0.9600 - val_loss: 0.1008 - val_accuracy: 0.9583 - lr: 1.0000e-05\n",
      "Epoch 41/100\n",
      "546/546 [==============================] - 132s 242ms/step - loss: 0.0965 - accuracy: 0.9608 - val_loss: 0.1008 - val_accuracy: 0.9585 - lr: 1.0000e-05\n",
      "Epoch 42/100\n",
      "546/546 [==============================] - 130s 238ms/step - loss: 0.0962 - accuracy: 0.9623 - val_loss: 0.1008 - val_accuracy: 0.9583 - lr: 1.0000e-06\n",
      "Epoch 43/100\n",
      "546/546 [==============================] - 137s 251ms/step - loss: 0.0937 - accuracy: 0.9624 - val_loss: 0.1008 - val_accuracy: 0.9583 - lr: 1.0000e-06\n",
      "Epoch 44/100\n",
      "546/546 [==============================] - 129s 237ms/step - loss: 0.0973 - accuracy: 0.9617 - val_loss: 0.1008 - val_accuracy: 0.9581 - lr: 1.0000e-06\n",
      "Epoch 45/100\n",
      "546/546 [==============================] - 129s 237ms/step - loss: 0.0944 - accuracy: 0.9633 - val_loss: 0.1008 - val_accuracy: 0.9581 - lr: 1.0000e-06\n",
      "Epoch 46/100\n",
      "546/546 [==============================] - 129s 238ms/step - loss: 0.0995 - accuracy: 0.9603 - val_loss: 0.1007 - val_accuracy: 0.9581 - lr: 1.0000e-06\n",
      "Epoch 47/100\n",
      "546/546 [==============================] - 132s 242ms/step - loss: 0.0959 - accuracy: 0.9624 - val_loss: 0.1007 - val_accuracy: 0.9581 - lr: 1.0000e-06\n",
      "Epoch 48/100\n",
      "546/546 [==============================] - 137s 252ms/step - loss: 0.0957 - accuracy: 0.9623 - val_loss: 0.1007 - val_accuracy: 0.9581 - lr: 1.0000e-07\n",
      "Epoch 49/100\n",
      "546/546 [==============================] - 135s 247ms/step - loss: 0.0970 - accuracy: 0.9612 - val_loss: 0.1007 - val_accuracy: 0.9581 - lr: 1.0000e-07\n",
      "Epoch 50/100\n",
      "546/546 [==============================] - 132s 242ms/step - loss: 0.0981 - accuracy: 0.9615 - val_loss: 0.1007 - val_accuracy: 0.9581 - lr: 1.0000e-07\n",
      "Epoch 51/100\n",
      "546/546 [==============================] - 133s 245ms/step - loss: 0.0964 - accuracy: 0.9615 - val_loss: 0.1007 - val_accuracy: 0.9581 - lr: 1.0000e-07\n",
      "Epoch 52/100\n",
      "546/546 [==============================] - 132s 243ms/step - loss: 0.0970 - accuracy: 0.9598 - val_loss: 0.1007 - val_accuracy: 0.9581 - lr: 1.0000e-07\n",
      "Epoch 53/100\n",
      "546/546 [==============================] - 136s 249ms/step - loss: 0.0989 - accuracy: 0.9603 - val_loss: 0.1007 - val_accuracy: 0.9581 - lr: 1.0000e-07\n"
     ]
    }
   ],
   "source": [
    "with tf.device('/device:GPU:0'):\n",
    "    history = multi_input_model.fit(\n",
    "        train_generator,\n",
    "        validation_data=val_generator,\n",
    "        epochs=100,\n",
    "        callbacks=[reduce_lr_on_plateau, early_stop],\n",
    "        steps_per_epoch=steps_per_epoch,\n",
    "        validation_steps=validation_steps,\n",
    "        verbose=1\n",
    "    )\n"
   ]
  },
  {
   "cell_type": "code",
   "execution_count": 174,
   "metadata": {},
   "outputs": [
    {
     "data": {
      "image/png": "[encoded data removed]",
      "text/plain": [
       "<Figure size 640x480 with 1 Axes>"
      ]
     },
     "metadata": {},
     "output_type": "display_data"
    }
   ],
   "source": [
    "def plot_history(history):\n",
    "    hist = pd.DataFrame(history.history)\n",
    "    hist['epoch'] = history.epoch\n",
    "    plt.figure()\n",
    "    plt.xlabel('Epoch')\n",
    "    plt.ylabel('accuracy')\n",
    "    plt.plot(hist['epoch'], hist['accuracy'], label='Train Acc')\n",
    "    plt.plot(hist['epoch'], hist['val_accuracy'], label='Validation Acc')\n",
    "    plt.ylim([0,1])\n",
    "    plt.legend()\n",
    "    plt.show()\n",
    "\n",
    "plot_history(history)"
   ]
  },
  {
   "cell_type": "markdown",
   "metadata": {},
   "source": [
    "# Save Model"
   ]
  },
  {
   "cell_type": "code",
   "execution_count": 175,
   "metadata": {},
   "outputs": [
    {
     "name": "stdout",
     "output_type": "stream",
     "text": [
      "Saved model to disk\n"
     ]
    }
   ],
   "source": [
    "model_json = multi_input_model.to_json()\n",
    "with open(str(Path(OUTPUT_MODEL, f'Model_Multi_input.json')), \"w\") as json_file:\n",
    "    json_file.write(model_json)\n",
    "# serialize weights to HDF5\n",
    "multi_input_model.save_weights(str(Path(OUTPUT_MODEL, f\"Model_Multi_input.h5\")))\n",
    "print(\"Saved model to disk\")"
   ]
  },
  {
   "cell_type": "markdown",
   "metadata": {},
   "source": [
    "# Model Evaluate"
   ]
  },
  {
   "cell_type": "code",
   "execution_count": 186,
   "metadata": {},
   "outputs": [
    {
     "name": "stdout",
     "output_type": "stream",
     "text": [
      "Loaded model from disk\n",
      "71/71 [==============================] - 1s 11ms/step\n"
     ]
    },
    {
     "data": {
      "image/png": "[encoded data removed]",
      "text/plain": [
       "<Figure size 500x400 with 2 Axes>"
      ]
     },
     "metadata": {},
     "output_type": "display_data"
    },
    {
     "name": "stdout",
     "output_type": "stream",
     "text": [
      "Recall Cat 0.97\n",
      "Precision Cat 0.95\n",
      "Fscore Cat 0.96\n",
      "--------------------------------\n",
      "Recall Dog 0.95\n",
      "Precision Dog 0.97\n",
      "Fscore Dog 0.96\n",
      "--------------------------------\n",
      "Accuracy 0.96\n"
     ]
    }
   ],
   "source": [
    "evaluation(\n",
    "    model_path = Path(r'C:\\Users\\jean-\\OneDrive\\Documentos\\DSProject\\Cats And Dogs Classifier\\Models'), \n",
    "    model_name = 'Model_Multi_input', \n",
    "    test_dataset = Path(r'D:\\ML Datasets\\kagglecatsanddogs_5340\\Split\\Test')\n",
    ")"
   ]
  }
 ],
 "metadata": {
  "kernelspec": {
   "display_name": "DeepLearningDev",
   "language": "python",
   "name": "python3"
  },
  "language_info": {
   "codemirror_mode": {
    "name": "ipython",
    "version": 3
   },
   "file_extension": ".py",
   "mimetype": "text/x-python",
   "name": "python",
   "nbconvert_exporter": "python",
   "pygments_lexer": "ipython3",
   "version": "3.10.14"
  }
 },
 "nbformat": 4,
 "nbformat_minor": 2
}
