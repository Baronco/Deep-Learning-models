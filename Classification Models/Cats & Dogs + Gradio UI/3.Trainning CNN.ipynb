{
 "cells": [
  {
   "cell_type": "code",
   "execution_count": 2,
   "metadata": {},
   "outputs": [],
   "source": [
    "import numpy as np\n",
    "import pandas as pd\n",
    "import matplotlib.pyplot as plt\n",
    "import seaborn as sns\n",
    "import tensorflow as tf\n",
    "from tensorflow import keras\n",
    "from keras_preprocessing.image import ImageDataGenerator\n",
    "from glob import glob\n",
    "from tqdm import tqdm\n",
    "from pathlib import Path\n",
    "from keras.models import Sequential, model_from_json\n",
    "from keras.layers import Activation, Dense\n",
    "from tensorflow.keras.layers import Conv2D, MaxPooling2D, Dropout, BatchNormalization, Flatten, GlobalMaxPooling2D\n",
    "from sklearn.model_selection import train_test_split\n",
    "from PIL import Image\n",
    "import os\n",
    "from tensorboard import notebook\n",
    "import datetime"
   ]
  },
  {
   "cell_type": "code",
   "execution_count": 3,
   "metadata": {},
   "outputs": [],
   "source": [
    "%load_ext tensorboard"
   ]
  },
  {
   "cell_type": "markdown",
   "metadata": {},
   "source": [
    "# Parameters"
   ]
  },
  {
   "cell_type": "code",
   "execution_count": 4,
   "metadata": {},
   "outputs": [],
   "source": [
    "# input\n",
    "INPUT = Path(r'D:\\ML Datasets\\kagglecatsanddogs_5340')\n",
    "OUTPUT_MODEL = Path(r'C:\\Users\\jean-\\OneDrive\\Documentos\\DSProject\\Cats And Dogs Classifier\\Models')\n",
    "SPLIT = Path(r'D:\\ML Datasets\\kagglecatsanddogs_5340\\Split')\n",
    "DIM = 'Color'\n",
    "IMG_WIDTH, IMG_HEIGHT = 256, 256\n",
    "RESCALE_IMG_WIDTH, RESCALE_IMG_HEIGHT = 128, 128\n",
    "BATCH = 128\n",
    "MODEL_NAME = f'{RESCALE_IMG_WIDTH}_{RESCALE_IMG_HEIGHT}'"
   ]
  },
  {
   "cell_type": "code",
   "execution_count": 5,
   "metadata": {},
   "outputs": [
    {
     "data": {
      "text/plain": [
       "'128_128'"
      ]
     },
     "execution_count": 5,
     "metadata": {},
     "output_type": "execute_result"
    }
   ],
   "source": [
    "MODEL_NAME"
   ]
  },
  {
   "cell_type": "code",
   "execution_count": 6,
   "metadata": {},
   "outputs": [
    {
     "data": {
      "text/plain": [
       "'rgb'"
      ]
     },
     "execution_count": 6,
     "metadata": {},
     "output_type": "execute_result"
    }
   ],
   "source": [
    "if DIM == 'Depth Map':\n",
    "    color_mode='grayscale'\n",
    "    color_dim = 1\n",
    "elif DIM == 'Color' or DIM == 'Edited':\n",
    "    color_mode='rgb'\n",
    "    color_dim = 3\n",
    "\n",
    "color_mode"
   ]
  },
  {
   "cell_type": "code",
   "execution_count": 7,
   "metadata": {},
   "outputs": [
    {
     "data": {
      "text/plain": [
       "3"
      ]
     },
     "execution_count": 7,
     "metadata": {},
     "output_type": "execute_result"
    }
   ],
   "source": [
    "color_dim"
   ]
  },
  {
   "cell_type": "markdown",
   "metadata": {},
   "source": [
    "# Data augmentation"
   ]
  },
  {
   "cell_type": "code",
   "execution_count": 8,
   "metadata": {},
   "outputs": [],
   "source": [
    "# create a data generator\n",
    "datagenTrain = ImageDataGenerator(\n",
    "    rescale = 1./255,\n",
    "    rotation_range=15,\n",
    "    horizontal_flip=True,\n",
    "    # # vertical_flip=True,\n",
    "    zoom_range=[0.9, 1.2],\n",
    "    brightness_range =[0.7,1.3],\n",
    "    width_shift_range=0.05,\n",
    "    height_shift_range=0.05,\n",
    "    fill_mode='nearest'\n",
    ")\n",
    "datagenTest = ImageDataGenerator(\n",
    "    rescale = 1./255,\n",
    "    rotation_range=15,\n",
    "    horizontal_flip=True,\n",
    "    # # vertical_flip=True,\n",
    "    zoom_range=[0.9, 1.2],\n",
    "    brightness_range =[0.7,1.3],\n",
    "    width_shift_range=0.05,\n",
    "    height_shift_range=0.05,\n",
    "    fill_mode='nearest'\n",
    ")\n",
    "datagenVal = ImageDataGenerator(\n",
    "    rescale = 1./255,\n",
    "    rotation_range=15,\n",
    "    horizontal_flip=True,\n",
    "    # # vertical_flip=True,\n",
    "    zoom_range=[0.9, 1.2],\n",
    "    brightness_range =[0.7,1.3],\n",
    "    width_shift_range=0.05,\n",
    "    height_shift_range=0.05,\n",
    "    fill_mode='nearest'\n",
    ")"
   ]
  },
  {
   "cell_type": "code",
   "execution_count": 9,
   "metadata": {},
   "outputs": [
    {
     "data": {
      "text/plain": [
       "'rgb'"
      ]
     },
     "execution_count": 9,
     "metadata": {},
     "output_type": "execute_result"
    }
   ],
   "source": [
    "color_mode"
   ]
  },
  {
   "cell_type": "code",
   "execution_count": 10,
   "metadata": {},
   "outputs": [],
   "source": [
    "CLASS_MODE = 'categorical'"
   ]
  },
  {
   "cell_type": "code",
   "execution_count": 11,
   "metadata": {},
   "outputs": [
    {
     "name": "stdout",
     "output_type": "stream",
     "text": [
      "Found 17498 images belonging to 2 classes.\n",
      "Found 2250 images belonging to 2 classes.\n",
      "Found 5250 images belonging to 2 classes.\n"
     ]
    }
   ],
   "source": [
    "#loading data\n",
    "train_generator = datagenTrain.flow_from_directory(\n",
    "    directory = str(Path(SPLIT,'Train',DIM)),\n",
    "    classes=['Dog','Cat'],\n",
    "    class_mode=CLASS_MODE,\n",
    "    batch_size=BATCH ,\n",
    "    target_size=(RESCALE_IMG_WIDTH, RESCALE_IMG_HEIGHT),\n",
    "    color_mode=color_mode\n",
    ")\n",
    "\n",
    "test_generator = datagenTest.flow_from_directory(\n",
    "    directory = str(Path(SPLIT,'Test',DIM)),\n",
    "    classes=['Dog','Cat'],\n",
    "    class_mode=CLASS_MODE,\n",
    "    batch_size=BATCH ,\n",
    "    target_size=(RESCALE_IMG_WIDTH, RESCALE_IMG_HEIGHT),\n",
    "    color_mode=color_mode\n",
    ")\n",
    "\n",
    "val_generator = datagenVal.flow_from_directory(\n",
    "    directory = str(Path(SPLIT,'Val',DIM)),\n",
    "    classes=['Dog','Cat'],\n",
    "    class_mode=CLASS_MODE,\n",
    "    batch_size=BATCH ,\n",
    "    target_size=(RESCALE_IMG_WIDTH, RESCALE_IMG_HEIGHT),\n",
    "    color_mode=color_mode\n",
    ")"
   ]
  },
  {
   "cell_type": "markdown",
   "metadata": {},
   "source": [
    "# GPU Configs"
   ]
  },
  {
   "cell_type": "code",
   "execution_count": 12,
   "metadata": {},
   "outputs": [
    {
     "data": {
      "text/plain": [
       "[PhysicalDevice(name='/physical_device:GPU:0', device_type='GPU')]"
      ]
     },
     "execution_count": 12,
     "metadata": {},
     "output_type": "execute_result"
    }
   ],
   "source": [
    "tf.config.list_physical_devices('GPU')"
   ]
  },
  {
   "cell_type": "code",
   "execution_count": 13,
   "metadata": {},
   "outputs": [
    {
     "name": "stdout",
     "output_type": "stream",
     "text": [
      "1 Physical GPUs, 1 Logical GPUs\n"
     ]
    }
   ],
   "source": [
    "gpus = tf.config.list_physical_devices('GPU')\n",
    "if gpus:\n",
    "  # Restrict TensorFlow to only allocate 1GB of memory on the first GPU\n",
    "  try:\n",
    "    tf.config.set_logical_device_configuration(\n",
    "        gpus[0],\n",
    "        [tf.config.LogicalDeviceConfiguration(memory_limit=1024*4)])\n",
    "    logical_gpus = tf.config.list_logical_devices('GPU')\n",
    "    print(len(gpus), \"Physical GPUs,\", len(logical_gpus), \"Logical GPUs\")\n",
    "  except RuntimeError as e:\n",
    "    # Virtual devices must be set before GPUs have been initialized\n",
    "    print(e)"
   ]
  },
  {
   "cell_type": "markdown",
   "metadata": {},
   "source": [
    "## CNN"
   ]
  },
  {
   "cell_type": "code",
   "execution_count": 14,
   "metadata": {},
   "outputs": [],
   "source": [
    "initializer = keras.initializers.GlorotUniform(seed=308202)"
   ]
  },
  {
   "cell_type": "code",
   "execution_count": 15,
   "metadata": {},
   "outputs": [
    {
     "data": {
      "text/plain": [
       "3"
      ]
     },
     "execution_count": 15,
     "metadata": {},
     "output_type": "execute_result"
    }
   ],
   "source": [
    "color_dim"
   ]
  },
  {
   "cell_type": "code",
   "execution_count": 16,
   "metadata": {},
   "outputs": [],
   "source": [
    "\n",
    "kernel_size = 3"
   ]
  },
  {
   "cell_type": "code",
   "execution_count": 25,
   "metadata": {},
   "outputs": [
    {
     "name": "stdout",
     "output_type": "stream",
     "text": [
      "Model: \"Dogs_Cats_classifier_dim_Col\"\n",
      "_________________________________________________________________\n",
      " Layer (type)                Output Shape              Param #   \n",
      "=================================================================\n",
      " conv2d_9 (Conv2D)           (None, 128, 128, 32)      896       \n",
      "                                                                 \n",
      " batch_normalization_4 (Batc  (None, 128, 128, 32)     128       \n",
      " hNormalization)                                                 \n",
      "                                                                 \n",
      " max_pooling2d_5 (MaxPooling  (None, 64, 64, 32)       0         \n",
      " 2D)                                                             \n",
      "                                                                 \n",
      " dropout_12 (Dropout)        (None, 64, 64, 32)        0         \n",
      "                                                                 \n",
      " conv2d_10 (Conv2D)          (None, 64, 64, 32)        9248      \n",
      "                                                                 \n",
      " batch_normalization_5 (Batc  (None, 64, 64, 32)       128       \n",
      " hNormalization)                                                 \n",
      "                                                                 \n",
      " dropout_13 (Dropout)        (None, 64, 64, 32)        0         \n",
      "                                                                 \n",
      " conv2d_11 (Conv2D)          (None, 64, 64, 32)        9248      \n",
      "                                                                 \n",
      " batch_normalization_6 (Batc  (None, 64, 64, 32)       128       \n",
      " hNormalization)                                                 \n",
      "                                                                 \n",
      " max_pooling2d_6 (MaxPooling  (None, 32, 32, 32)       0         \n",
      " 2D)                                                             \n",
      "                                                                 \n",
      " dropout_14 (Dropout)        (None, 32, 32, 32)        0         \n",
      "                                                                 \n",
      " conv2d_12 (Conv2D)          (None, 32, 32, 64)        18496     \n",
      "                                                                 \n",
      " batch_normalization_7 (Batc  (None, 32, 32, 64)       256       \n",
      " hNormalization)                                                 \n",
      "                                                                 \n",
      " max_pooling2d_7 (MaxPooling  (None, 16, 16, 64)       0         \n",
      " 2D)                                                             \n",
      "                                                                 \n",
      " dropout_15 (Dropout)        (None, 16, 16, 64)        0         \n",
      "                                                                 \n",
      " conv2d_13 (Conv2D)          (None, 16, 16, 64)        36928     \n",
      "                                                                 \n",
      " batch_normalization_8 (Batc  (None, 16, 16, 64)       256       \n",
      " hNormalization)                                                 \n",
      "                                                                 \n",
      " dropout_16 (Dropout)        (None, 16, 16, 64)        0         \n",
      "                                                                 \n",
      " conv2d_14 (Conv2D)          (None, 16, 16, 64)        36928     \n",
      "                                                                 \n",
      " batch_normalization_9 (Batc  (None, 16, 16, 64)       256       \n",
      " hNormalization)                                                 \n",
      "                                                                 \n",
      " max_pooling2d_8 (MaxPooling  (None, 8, 8, 64)         0         \n",
      " 2D)                                                             \n",
      "                                                                 \n",
      " dropout_17 (Dropout)        (None, 8, 8, 64)          0         \n",
      "                                                                 \n",
      " conv2d_15 (Conv2D)          (None, 8, 8, 128)         73856     \n",
      "                                                                 \n",
      " batch_normalization_10 (Bat  (None, 8, 8, 128)        512       \n",
      " chNormalization)                                                \n",
      "                                                                 \n",
      " max_pooling2d_9 (MaxPooling  (None, 4, 4, 128)        0         \n",
      " 2D)                                                             \n",
      "                                                                 \n",
      " dropout_18 (Dropout)        (None, 4, 4, 128)         0         \n",
      "                                                                 \n",
      " conv2d_16 (Conv2D)          (None, 4, 4, 128)         147584    \n",
      "                                                                 \n",
      " batch_normalization_11 (Bat  (None, 4, 4, 128)        512       \n",
      " chNormalization)                                                \n",
      "                                                                 \n",
      " dropout_19 (Dropout)        (None, 4, 4, 128)         0         \n",
      "                                                                 \n",
      " conv2d_17 (Conv2D)          (None, 4, 4, 256)         295168    \n",
      "                                                                 \n",
      " batch_normalization_12 (Bat  (None, 4, 4, 256)        1024      \n",
      " chNormalization)                                                \n",
      "                                                                 \n",
      " dropout_20 (Dropout)        (None, 4, 4, 256)         0         \n",
      "                                                                 \n",
      " global_max_pooling2d_1 (Glo  (None, 256)              0         \n",
      " balMaxPooling2D)                                                \n",
      "                                                                 \n",
      " dense_4 (Dense)             (None, 128)               32896     \n",
      "                                                                 \n",
      " batch_normalization_13 (Bat  (None, 128)              512       \n",
      " chNormalization)                                                \n",
      "                                                                 \n",
      " dropout_21 (Dropout)        (None, 128)               0         \n",
      "                                                                 \n",
      " dense_5 (Dense)             (None, 128)               16512     \n",
      "                                                                 \n",
      " batch_normalization_14 (Bat  (None, 128)              512       \n",
      " chNormalization)                                                \n",
      "                                                                 \n",
      " dropout_22 (Dropout)        (None, 128)               0         \n",
      "                                                                 \n",
      " dense_6 (Dense)             (None, 128)               16512     \n",
      "                                                                 \n",
      " batch_normalization_15 (Bat  (None, 128)              512       \n",
      " chNormalization)                                                \n",
      "                                                                 \n",
      " dropout_23 (Dropout)        (None, 128)               0         \n",
      "                                                                 \n",
      " dense_7 (Dense)             (None, 2)                 258       \n",
      "                                                                 \n",
      "=================================================================\n",
      "Total params: 699,266\n",
      "Trainable params: 696,898\n",
      "Non-trainable params: 2,368\n",
      "_________________________________________________________________\n"
     ]
    }
   ],
   "source": [
    "model = Sequential(name=f'Dogs_Cats_classifier_dim_{DIM[0:3]}')\n",
    "############################################################### Primer capa\n",
    "model.add(\n",
    "    Conv2D(\n",
    "        filters = 32, \n",
    "        kernel_size = (kernel_size,kernel_size), \n",
    "        strides = 1, \n",
    "        padding='same', \n",
    "        activation='relu', \n",
    "        input_shape=(RESCALE_IMG_WIDTH, RESCALE_IMG_HEIGHT,color_dim), \n",
    "        kernel_initializer=initializer\n",
    "    )\n",
    ")\n",
    "model.add(BatchNormalization())\n",
    "model.add(MaxPooling2D((2,2)))\n",
    "model.add(Dropout(0.2))\n",
    "\n",
    "model.add(\n",
    "    Conv2D(\n",
    "        filters = 32, \n",
    "        kernel_size = (kernel_size,kernel_size), \n",
    "        strides = 1, \n",
    "        padding='same', \n",
    "        activation='relu', \n",
    "        input_shape=(RESCALE_IMG_WIDTH, RESCALE_IMG_HEIGHT,color_dim), \n",
    "        kernel_initializer=initializer\n",
    "    )\n",
    ")\n",
    "model.add(BatchNormalization())\n",
    "model.add(Dropout(0.2))\n",
    "\n",
    "model.add(\n",
    "    Conv2D(\n",
    "        filters = 32, \n",
    "        kernel_size = (kernel_size,kernel_size), \n",
    "        strides = 1, \n",
    "        padding='same', \n",
    "        activation='relu', \n",
    "        input_shape=(RESCALE_IMG_WIDTH, RESCALE_IMG_HEIGHT,color_dim), \n",
    "        kernel_initializer=initializer\n",
    "    )\n",
    ")\n",
    "model.add(BatchNormalization())\n",
    "model.add(MaxPooling2D((2,2)))\n",
    "model.add(Dropout(0.2))\n",
    "\n",
    "################################################################## 2da\n",
    "model.add(\n",
    "    Conv2D(\n",
    "        filters = 64, \n",
    "        kernel_size = (kernel_size,kernel_size),\n",
    "        strides = 1, \n",
    "        padding='same', \n",
    "        activation='relu', \n",
    "        kernel_initializer=initializer\n",
    "    )\n",
    ")\n",
    "model.add(BatchNormalization())\n",
    "model.add(MaxPooling2D((2,2)))\n",
    "model.add(Dropout(0.2))\n",
    "\n",
    "model.add(\n",
    "    Conv2D(\n",
    "        filters = 64, \n",
    "        kernel_size = (kernel_size,kernel_size),\n",
    "        strides = 1, \n",
    "        padding='same', \n",
    "        activation='relu', \n",
    "        kernel_initializer=initializer\n",
    "    )\n",
    ")\n",
    "model.add(BatchNormalization())\n",
    "model.add(Dropout(0.2))\n",
    "\n",
    "\n",
    "model.add(\n",
    "    Conv2D(\n",
    "        filters = 64, \n",
    "        kernel_size = (kernel_size,kernel_size),\n",
    "        strides = 1, \n",
    "        padding='same', \n",
    "        activation='relu', \n",
    "        kernel_initializer=initializer\n",
    "    )\n",
    ")\n",
    "model.add(BatchNormalization())\n",
    "model.add(MaxPooling2D((2,2)))\n",
    "model.add(Dropout(0.2))\n",
    "\n",
    "################################################################## 3RA\n",
    "model.add(\n",
    "    Conv2D(\n",
    "        filters = 128, \n",
    "        kernel_size = (kernel_size,kernel_size),\n",
    "        strides = 1, \n",
    "        padding='same', \n",
    "        activation='relu', \n",
    "        kernel_initializer=initializer\n",
    "    )\n",
    ")\n",
    "model.add(BatchNormalization())\n",
    "model.add(MaxPooling2D((2,2)))\n",
    "model.add(Dropout(0.2))\n",
    "\n",
    "model.add(\n",
    "    Conv2D(\n",
    "        filters = 128, \n",
    "        kernel_size = (kernel_size,kernel_size),\n",
    "        strides = 1, \n",
    "        padding='same', \n",
    "        activation='relu', \n",
    "        kernel_initializer=initializer\n",
    "    )\n",
    ")\n",
    "model.add(BatchNormalization())\n",
    "model.add(Dropout(0.2))\n",
    "\n",
    "model.add(\n",
    "    Conv2D(\n",
    "        filters = 256, \n",
    "        kernel_size = (kernel_size,kernel_size),\n",
    "        strides = 1, \n",
    "        padding='same', \n",
    "        activation='relu', \n",
    "        kernel_initializer=initializer\n",
    "    )\n",
    ")\n",
    "model.add(BatchNormalization())\n",
    "# model.add(MaxPooling2D((2,2)))\n",
    "model.add(Dropout(0.2))\n",
    "\n",
    "################################################################## Dense layer\n",
    "# model.add(Flatten())\n",
    "model.add(GlobalMaxPooling2D())\n",
    "model.add(Dense(128, activation='relu', kernel_initializer=initializer))\n",
    "model.add(BatchNormalization())\n",
    "model.add(Dropout(0.2))\n",
    "model.add(Dense(128, activation='relu', kernel_initializer=initializer))\n",
    "model.add(BatchNormalization())\n",
    "model.add(Dropout(0.2))\n",
    "model.add(Dense(128, activation='relu', kernel_initializer=initializer))\n",
    "model.add(BatchNormalization())\n",
    "model.add(Dropout(0.2))\n",
    "model.add(Dense(2, activation='softmax',kernel_initializer=initializer))\n",
    "model.summary()"
   ]
  },
  {
   "cell_type": "code",
   "execution_count": 18,
   "metadata": {},
   "outputs": [],
   "source": [
    "# model.load_weights(\n",
    "#     Path(\n",
    "#         r'C:\\Users\\jean-\\OneDrive\\Documentos\\DSProject\\Cats And Dogs Classifier\\Models\\checkpoints',\n",
    "#         f'{DIM}_{MODEL_NAME}checkpoint.model.keras'\n",
    "#         )\n",
    "#     )"
   ]
  },
  {
   "cell_type": "code",
   "execution_count": 26,
   "metadata": {},
   "outputs": [],
   "source": [
    "optimizer = tf.keras.optimizers.Adam(learning_rate=0.001)\n",
    "\n",
    "model.compile(\n",
    "    optimizer=optimizer,\n",
    "    loss='categorical_crossentropy',\n",
    "    metrics='accuracy'\n",
    "    )\n",
    "\n",
    "# reduce_lr = tf.keras.callbacks.LearningRateScheduler(\n",
    "#     lambda x: 0.001*0.9**x\n",
    "# )\n",
    "\n",
    "\n",
    "log_path = str(\n",
    "    Path(\n",
    "        r'C:\\Users\\jean-\\OneDrive\\Documentos\\DSProject\\Cats And Dogs Classifier\\Logs',\n",
    "    )\n",
    ") \n",
    "if not os.path.exists(log_path):\n",
    "    os.makedirs(log_path)\n",
    "\n",
    "log_dir = str(\n",
    "    Path(\n",
    "        log_path,\n",
    "        f'{DIM}_{MODEL_NAME}'+datetime.datetime.now().strftime(\"%Y%m%d-%H%M%S\")\n",
    "    )\n",
    ")\n",
    "\n",
    "tensorboard_callback = tf.keras.callbacks.TensorBoard(log_dir=log_dir, histogram_freq=1)\n",
    "\n",
    "early_stop = tf.keras.callbacks.EarlyStopping(\n",
    "    monitor='val_loss',\n",
    "    patience=15,\n",
    "    restore_best_weights=True\n",
    ")\n",
    "\n",
    "\n",
    "reduce_lr_on_plateau = keras.callbacks.ReduceLROnPlateau(\n",
    "    monitor=\"val_loss\",\n",
    "    factor=0.1,\n",
    "    patience=6,\n",
    "    verbose=0,\n",
    "    mode=\"auto\",\n",
    "    min_delta=0.0001,\n",
    "    cooldown=0,\n",
    "    min_lr=0.0,\n",
    ")\n",
    "\n",
    "checkpoint_filepath = str(\n",
    "    Path(\n",
    "        r'C:\\Users\\jean-\\OneDrive\\Documentos\\DSProject\\Cats And Dogs Classifier\\Models\\checkpoints',\n",
    "        f'{DIM}_{MODEL_NAME}checkpoint.model.keras'\n",
    "    )\n",
    ")\n",
    "model_checkpoint_callback = keras.callbacks.ModelCheckpoint(\n",
    "    filepath=checkpoint_filepath,\n",
    "    monitor='val_accuracy',\n",
    "    mode='max',\n",
    "    save_best_only=True)"
   ]
  },
  {
   "cell_type": "markdown",
   "metadata": {},
   "source": [
    "# Tensorboard"
   ]
  },
  {
   "cell_type": "code",
   "execution_count": 20,
   "metadata": {},
   "outputs": [
    {
     "data": {
      "text/plain": [
       "True"
      ]
     },
     "execution_count": 20,
     "metadata": {},
     "output_type": "execute_result"
    }
   ],
   "source": [
    "import os\n",
    "import webbrowser\n",
    "import subprocess\n",
    "\n",
    "# Start TensorBoard\n",
    "logdir = \"Logs\"\n",
    "subprocess.Popen([\"tensorboard\", \"--logdir\", logdir])\n",
    "\n",
    "# Automatically open the browser\n",
    "url = \"http://localhost:6006\"\n",
    "webbrowser.open(url)"
   ]
  },
  {
   "cell_type": "code",
   "execution_count": 27,
   "metadata": {},
   "outputs": [
    {
     "name": "stdout",
     "output_type": "stream",
     "text": [
      "Epoch 1/200\n",
      "137/137 [==============================] - 79s 564ms/step - loss: 0.8011 - accuracy: 0.5449 - val_loss: 0.7120 - val_accuracy: 0.5000 - lr: 0.0010\n",
      "Epoch 2/200\n",
      "137/137 [==============================] - 76s 555ms/step - loss: 0.6749 - accuracy: 0.6113 - val_loss: 0.7170 - val_accuracy: 0.5160 - lr: 0.0010\n",
      "Epoch 3/200\n",
      "137/137 [==============================] - 87s 634ms/step - loss: 0.6233 - accuracy: 0.6600 - val_loss: 0.7321 - val_accuracy: 0.5253 - lr: 0.0010\n",
      "Epoch 4/200\n",
      "137/137 [==============================] - 84s 613ms/step - loss: 0.5965 - accuracy: 0.6815 - val_loss: 0.6390 - val_accuracy: 0.6331 - lr: 0.0010\n",
      "Epoch 5/200\n",
      "137/137 [==============================] - 84s 611ms/step - loss: 0.5769 - accuracy: 0.6975 - val_loss: 0.9566 - val_accuracy: 0.5564 - lr: 0.0010\n",
      "Epoch 6/200\n",
      "137/137 [==============================] - 84s 613ms/step - loss: 0.5526 - accuracy: 0.7155 - val_loss: 0.6270 - val_accuracy: 0.6646 - lr: 0.0010\n",
      "Epoch 7/200\n",
      "137/137 [==============================] - 84s 614ms/step - loss: 0.5304 - accuracy: 0.7401 - val_loss: 1.0453 - val_accuracy: 0.5994 - lr: 0.0010\n",
      "Epoch 8/200\n",
      "137/137 [==============================] - 83s 605ms/step - loss: 0.5098 - accuracy: 0.7489 - val_loss: 0.5905 - val_accuracy: 0.7074 - lr: 0.0010\n",
      "Epoch 9/200\n",
      "137/137 [==============================] - 88s 640ms/step - loss: 0.4888 - accuracy: 0.7669 - val_loss: 0.5838 - val_accuracy: 0.6998 - lr: 0.0010\n",
      "Epoch 10/200\n",
      "137/137 [==============================] - 88s 645ms/step - loss: 0.4655 - accuracy: 0.7769 - val_loss: 0.5400 - val_accuracy: 0.7160 - lr: 0.0010\n",
      "Epoch 11/200\n",
      "137/137 [==============================] - 89s 648ms/step - loss: 0.4375 - accuracy: 0.7958 - val_loss: 0.5779 - val_accuracy: 0.7000 - lr: 0.0010\n",
      "Epoch 12/200\n",
      "137/137 [==============================] - 91s 661ms/step - loss: 0.4237 - accuracy: 0.8051 - val_loss: 0.4830 - val_accuracy: 0.7634 - lr: 0.0010\n",
      "Epoch 13/200\n",
      "137/137 [==============================] - 88s 645ms/step - loss: 0.4071 - accuracy: 0.8112 - val_loss: 0.4778 - val_accuracy: 0.7488 - lr: 0.0010\n",
      "Epoch 14/200\n",
      "137/137 [==============================] - 88s 643ms/step - loss: 0.3907 - accuracy: 0.8214 - val_loss: 0.5334 - val_accuracy: 0.7469 - lr: 0.0010\n",
      "Epoch 15/200\n",
      "137/137 [==============================] - 89s 648ms/step - loss: 0.3780 - accuracy: 0.8320 - val_loss: 0.3918 - val_accuracy: 0.8236 - lr: 0.0010\n",
      "Epoch 16/200\n",
      "137/137 [==============================] - 89s 648ms/step - loss: 0.3667 - accuracy: 0.8328 - val_loss: 0.6574 - val_accuracy: 0.7036 - lr: 0.0010\n",
      "Epoch 17/200\n",
      "137/137 [==============================] - 88s 643ms/step - loss: 0.3507 - accuracy: 0.8468 - val_loss: 0.8861 - val_accuracy: 0.6478 - lr: 0.0010\n",
      "Epoch 18/200\n",
      "137/137 [==============================] - 89s 647ms/step - loss: 0.3303 - accuracy: 0.8536 - val_loss: 0.5979 - val_accuracy: 0.7034 - lr: 0.0010\n",
      "Epoch 19/200\n",
      "137/137 [==============================] - 88s 643ms/step - loss: 0.3176 - accuracy: 0.8591 - val_loss: 0.3116 - val_accuracy: 0.8676 - lr: 0.0010\n",
      "Epoch 20/200\n",
      "137/137 [==============================] - 88s 643ms/step - loss: 0.3071 - accuracy: 0.8663 - val_loss: 0.6899 - val_accuracy: 0.6956 - lr: 0.0010\n",
      "Epoch 21/200\n",
      "137/137 [==============================] - 88s 641ms/step - loss: 0.2941 - accuracy: 0.8730 - val_loss: 0.4555 - val_accuracy: 0.7794 - lr: 0.0010\n",
      "Epoch 22/200\n",
      "137/137 [==============================] - 88s 643ms/step - loss: 0.2844 - accuracy: 0.8746 - val_loss: 0.2980 - val_accuracy: 0.8705 - lr: 0.0010\n",
      "Epoch 23/200\n",
      "137/137 [==============================] - 88s 643ms/step - loss: 0.2763 - accuracy: 0.8806 - val_loss: 0.5113 - val_accuracy: 0.7802 - lr: 0.0010\n",
      "Epoch 24/200\n",
      "137/137 [==============================] - 88s 645ms/step - loss: 0.2636 - accuracy: 0.8874 - val_loss: 0.4785 - val_accuracy: 0.7642 - lr: 0.0010\n",
      "Epoch 25/200\n",
      "137/137 [==============================] - 88s 641ms/step - loss: 0.2605 - accuracy: 0.8876 - val_loss: 0.3094 - val_accuracy: 0.8554 - lr: 0.0010\n",
      "Epoch 26/200\n",
      "137/137 [==============================] - 89s 646ms/step - loss: 0.2501 - accuracy: 0.8920 - val_loss: 0.6432 - val_accuracy: 0.7217 - lr: 0.0010\n",
      "Epoch 27/200\n",
      "137/137 [==============================] - 88s 645ms/step - loss: 0.2422 - accuracy: 0.8964 - val_loss: 0.5532 - val_accuracy: 0.7703 - lr: 0.0010\n",
      "Epoch 28/200\n",
      "137/137 [==============================] - 77s 559ms/step - loss: 0.2398 - accuracy: 0.8950 - val_loss: 0.2546 - val_accuracy: 0.8888 - lr: 0.0010\n",
      "Epoch 29/200\n",
      "137/137 [==============================] - 76s 555ms/step - loss: 0.2354 - accuracy: 0.8977 - val_loss: 0.2124 - val_accuracy: 0.9124 - lr: 0.0010\n",
      "Epoch 30/200\n",
      "137/137 [==============================] - 76s 554ms/step - loss: 0.2252 - accuracy: 0.9038 - val_loss: 0.3010 - val_accuracy: 0.8688 - lr: 0.0010\n",
      "Epoch 31/200\n",
      "137/137 [==============================] - 76s 551ms/step - loss: 0.2202 - accuracy: 0.9078 - val_loss: 0.3486 - val_accuracy: 0.8381 - lr: 0.0010\n",
      "Epoch 32/200\n",
      "137/137 [==============================] - 76s 555ms/step - loss: 0.2204 - accuracy: 0.9079 - val_loss: 0.2585 - val_accuracy: 0.8878 - lr: 0.0010\n",
      "Epoch 33/200\n",
      "137/137 [==============================] - 76s 556ms/step - loss: 0.2138 - accuracy: 0.9096 - val_loss: 0.2281 - val_accuracy: 0.8987 - lr: 0.0010\n",
      "Epoch 34/200\n",
      "137/137 [==============================] - 78s 570ms/step - loss: 0.2053 - accuracy: 0.9151 - val_loss: 0.1960 - val_accuracy: 0.9143 - lr: 0.0010\n",
      "Epoch 35/200\n",
      "137/137 [==============================] - 81s 589ms/step - loss: 0.2027 - accuracy: 0.9147 - val_loss: 0.2231 - val_accuracy: 0.9078 - lr: 0.0010\n",
      "Epoch 36/200\n",
      "137/137 [==============================] - 79s 573ms/step - loss: 0.1945 - accuracy: 0.9182 - val_loss: 0.2187 - val_accuracy: 0.9128 - lr: 0.0010\n",
      "Epoch 37/200\n",
      "137/137 [==============================] - 77s 562ms/step - loss: 0.1932 - accuracy: 0.9193 - val_loss: 0.2097 - val_accuracy: 0.9070 - lr: 0.0010\n",
      "Epoch 38/200\n",
      "137/137 [==============================] - 78s 565ms/step - loss: 0.1944 - accuracy: 0.9164 - val_loss: 0.2280 - val_accuracy: 0.8983 - lr: 0.0010\n",
      "Epoch 39/200\n",
      "137/137 [==============================] - 83s 606ms/step - loss: 0.1878 - accuracy: 0.9209 - val_loss: 0.2008 - val_accuracy: 0.9173 - lr: 0.0010\n",
      "Epoch 40/200\n",
      "137/137 [==============================] - 87s 636ms/step - loss: 0.1890 - accuracy: 0.9212 - val_loss: 0.2461 - val_accuracy: 0.8867 - lr: 0.0010\n",
      "Epoch 41/200\n",
      "137/137 [==============================] - 88s 639ms/step - loss: 0.1629 - accuracy: 0.9328 - val_loss: 0.1638 - val_accuracy: 0.9291 - lr: 1.0000e-04\n",
      "Epoch 42/200\n",
      "137/137 [==============================] - 87s 634ms/step - loss: 0.1525 - accuracy: 0.9373 - val_loss: 0.1611 - val_accuracy: 0.9301 - lr: 1.0000e-04\n",
      "Epoch 43/200\n",
      "137/137 [==============================] - 87s 637ms/step - loss: 0.1520 - accuracy: 0.9361 - val_loss: 0.1512 - val_accuracy: 0.9381 - lr: 1.0000e-04\n",
      "Epoch 44/200\n",
      "137/137 [==============================] - 87s 634ms/step - loss: 0.1442 - accuracy: 0.9411 - val_loss: 0.1622 - val_accuracy: 0.9312 - lr: 1.0000e-04\n",
      "Epoch 45/200\n",
      "137/137 [==============================] - 88s 641ms/step - loss: 0.1441 - accuracy: 0.9396 - val_loss: 0.1618 - val_accuracy: 0.9299 - lr: 1.0000e-04\n",
      "Epoch 46/200\n",
      "137/137 [==============================] - 87s 635ms/step - loss: 0.1437 - accuracy: 0.9404 - val_loss: 0.1537 - val_accuracy: 0.9345 - lr: 1.0000e-04\n",
      "Epoch 47/200\n",
      "137/137 [==============================] - 88s 643ms/step - loss: 0.1425 - accuracy: 0.9403 - val_loss: 0.1549 - val_accuracy: 0.9349 - lr: 1.0000e-04\n",
      "Epoch 48/200\n",
      "137/137 [==============================] - 88s 644ms/step - loss: 0.1387 - accuracy: 0.9432 - val_loss: 0.1458 - val_accuracy: 0.9381 - lr: 1.0000e-04\n",
      "Epoch 49/200\n",
      "137/137 [==============================] - 87s 637ms/step - loss: 0.1349 - accuracy: 0.9446 - val_loss: 0.1411 - val_accuracy: 0.9415 - lr: 1.0000e-04\n",
      "Epoch 50/200\n",
      "137/137 [==============================] - 88s 640ms/step - loss: 0.1369 - accuracy: 0.9434 - val_loss: 0.1389 - val_accuracy: 0.9455 - lr: 1.0000e-04\n",
      "Epoch 51/200\n",
      "137/137 [==============================] - 87s 636ms/step - loss: 0.1363 - accuracy: 0.9453 - val_loss: 0.1559 - val_accuracy: 0.9310 - lr: 1.0000e-04\n",
      "Epoch 52/200\n",
      "137/137 [==============================] - 87s 636ms/step - loss: 0.1331 - accuracy: 0.9445 - val_loss: 0.1508 - val_accuracy: 0.9394 - lr: 1.0000e-04\n",
      "Epoch 53/200\n",
      "137/137 [==============================] - 90s 656ms/step - loss: 0.1359 - accuracy: 0.9437 - val_loss: 0.1425 - val_accuracy: 0.9379 - lr: 1.0000e-04\n",
      "Epoch 54/200\n",
      "137/137 [==============================] - 90s 654ms/step - loss: 0.1344 - accuracy: 0.9454 - val_loss: 0.1582 - val_accuracy: 0.9301 - lr: 1.0000e-04\n",
      "Epoch 55/200\n",
      "137/137 [==============================] - 89s 649ms/step - loss: 0.1361 - accuracy: 0.9432 - val_loss: 0.1485 - val_accuracy: 0.9387 - lr: 1.0000e-04\n",
      "Epoch 56/200\n",
      "137/137 [==============================] - 89s 648ms/step - loss: 0.1341 - accuracy: 0.9437 - val_loss: 0.1420 - val_accuracy: 0.9389 - lr: 1.0000e-04\n",
      "Epoch 57/200\n",
      "137/137 [==============================] - 89s 649ms/step - loss: 0.1287 - accuracy: 0.9470 - val_loss: 0.1437 - val_accuracy: 0.9396 - lr: 1.0000e-05\n",
      "Epoch 58/200\n",
      "137/137 [==============================] - 89s 650ms/step - loss: 0.1274 - accuracy: 0.9489 - val_loss: 0.1461 - val_accuracy: 0.9383 - lr: 1.0000e-05\n",
      "Epoch 59/200\n",
      "137/137 [==============================] - 89s 650ms/step - loss: 0.1288 - accuracy: 0.9478 - val_loss: 0.1423 - val_accuracy: 0.9406 - lr: 1.0000e-05\n",
      "Epoch 60/200\n",
      "137/137 [==============================] - 89s 648ms/step - loss: 0.1295 - accuracy: 0.9475 - val_loss: 0.1426 - val_accuracy: 0.9396 - lr: 1.0000e-05\n",
      "Epoch 61/200\n",
      "137/137 [==============================] - 89s 646ms/step - loss: 0.1255 - accuracy: 0.9489 - val_loss: 0.1519 - val_accuracy: 0.9385 - lr: 1.0000e-05\n",
      "Epoch 62/200\n",
      "137/137 [==============================] - 85s 623ms/step - loss: 0.1268 - accuracy: 0.9462 - val_loss: 0.1446 - val_accuracy: 0.9354 - lr: 1.0000e-05\n",
      "Epoch 63/200\n",
      "137/137 [==============================] - 86s 627ms/step - loss: 0.1233 - accuracy: 0.9490 - val_loss: 0.1443 - val_accuracy: 0.9410 - lr: 1.0000e-06\n",
      "Epoch 64/200\n",
      "137/137 [==============================] - 87s 636ms/step - loss: 0.1237 - accuracy: 0.9486 - val_loss: 0.1486 - val_accuracy: 0.9354 - lr: 1.0000e-06\n",
      "Epoch 65/200\n",
      "137/137 [==============================] - 88s 639ms/step - loss: 0.1292 - accuracy: 0.9472 - val_loss: 0.1451 - val_accuracy: 0.9390 - lr: 1.0000e-06\n"
     ]
    }
   ],
   "source": [
    "with tf.device('/device:GPU:0'):\n",
    "    history = model.fit(\n",
    "        train_generator,\n",
    "        validation_data=val_generator,\n",
    "        epochs=200,\n",
    "        initial_epoch=0,\n",
    "        callbacks=[reduce_lr_on_plateau, early_stop,model_checkpoint_callback, tensorboard_callback  ],\n",
    "        verbose=1\n",
    "    )"
   ]
  },
  {
   "cell_type": "markdown",
   "metadata": {},
   "source": [
    "COn imagenes editadas se demora 277 min y se entrena 97 epocas"
   ]
  },
  {
   "cell_type": "markdown",
   "metadata": {},
   "source": [
    "Con imagenes a color originalse se demora 252 min y se entrena 79 epocas"
   ]
  },
  {
   "cell_type": "code",
   "execution_count": null,
   "metadata": {},
   "outputs": [],
   "source": []
  },
  {
   "cell_type": "code",
   "execution_count": 28,
   "metadata": {},
   "outputs": [
    {
     "data": {
      "image/png": "[encoded data removed]",
      "text/plain": [
       "<Figure size 640x480 with 1 Axes>"
      ]
     },
     "metadata": {},
     "output_type": "display_data"
    }
   ],
   "source": [
    "def plot_history(history):\n",
    "    hist = pd.DataFrame(history.history)\n",
    "    hist['epoch'] = history.epoch\n",
    "    plt.figure()\n",
    "    plt.xlabel('Epoch')\n",
    "    plt.ylabel('accuracy')\n",
    "    plt.plot(hist['epoch'], hist['accuracy'], label='Train Acc')\n",
    "    plt.plot(hist['epoch'], hist['val_accuracy'], label='Validation Acc')\n",
    "    plt.ylim([0,1])\n",
    "    plt.legend()\n",
    "    plt.show()\n",
    "\n",
    "plot_history(history)"
   ]
  },
  {
   "cell_type": "markdown",
   "metadata": {},
   "source": [
    "# Save Model"
   ]
  },
  {
   "cell_type": "code",
   "execution_count": 29,
   "metadata": {},
   "outputs": [
    {
     "name": "stdout",
     "output_type": "stream",
     "text": [
      "Saved model to disk\n"
     ]
    }
   ],
   "source": [
    "model_json = model.to_json()\n",
    "with open(str(Path(OUTPUT_MODEL, f'Model_{DIM}_{MODEL_NAME}.json')), \"w\") as json_file:\n",
    "    json_file.write(model_json)\n",
    "# serialize weights to HDF5\n",
    "model.save_weights(str(Path(OUTPUT_MODEL, f\"Model_{DIM}_{MODEL_NAME}.h5\")))\n",
    "print(\"Saved model to disk\")"
   ]
  },
  {
   "cell_type": "markdown",
   "metadata": {},
   "source": [
    "# Model Evaluate"
   ]
  },
  {
   "cell_type": "code",
   "execution_count": 30,
   "metadata": {},
   "outputs": [
    {
     "name": "stdout",
     "output_type": "stream",
     "text": [
      "18/18 [==============================] - 9s 474ms/step - loss: 0.1383 - accuracy: 0.9427\n"
     ]
    }
   ],
   "source": [
    "test_lost, test_acc = model.evaluate(test_generator)"
   ]
  }
 ],
 "metadata": {
  "kernelspec": {
   "display_name": "DeepLearningDev",
   "language": "python",
   "name": "python3"
  },
  "language_info": {
   "codemirror_mode": {
    "name": "ipython",
    "version": 3
   },
   "file_extension": ".py",
   "mimetype": "text/x-python",
   "name": "python",
   "nbconvert_exporter": "python",
   "pygments_lexer": "ipython3",
   "version": "3.10.14"
  }
 },
 "nbformat": 4,
 "nbformat_minor": 2
}
