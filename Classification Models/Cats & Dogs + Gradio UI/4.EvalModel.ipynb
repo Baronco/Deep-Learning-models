{
 "cells": [
  {
   "cell_type": "markdown",
   "metadata": {},
   "source": [
    "# Packges"
   ]
  },
  {
   "cell_type": "code",
   "execution_count": 1,
   "metadata": {},
   "outputs": [],
   "source": [
    "import numpy as np\n",
    "import pandas as pd\n",
    "import matplotlib.pyplot as plt\n",
    "import seaborn as sns\n",
    "import tensorflow as tf\n",
    "from tensorflow import keras\n",
    "from keras_preprocessing.image import ImageDataGenerator\n",
    "from glob import glob\n",
    "from tqdm import tqdm\n",
    "from pathlib import Path\n",
    "from keras.models import Sequential,model_from_json\n",
    "from keras.layers import Activation, Dense\n",
    "from tensorflow.keras.layers import Conv2D, MaxPooling2D, Dropout, BatchNormalization, Flatten\n",
    "from sklearn.model_selection import train_test_split\n",
    "from sklearn.metrics import confusion_matrix\n",
    "from sklearn.utils.multiclass import unique_labels\n",
    "from PIL import Image\n",
    "from sklearn.metrics import ConfusionMatrixDisplay \n",
    "import itertools"
   ]
  },
  {
   "cell_type": "markdown",
   "metadata": {},
   "source": [
    "# GPU Config"
   ]
  },
  {
   "cell_type": "code",
   "execution_count": 2,
   "metadata": {},
   "outputs": [
    {
     "data": {
      "text/plain": [
       "[PhysicalDevice(name='/physical_device:GPU:0', device_type='GPU')]"
      ]
     },
     "execution_count": 2,
     "metadata": {},
     "output_type": "execute_result"
    }
   ],
   "source": [
    "tf.config.list_physical_devices('GPU')"
   ]
  },
  {
   "cell_type": "code",
   "execution_count": 3,
   "metadata": {},
   "outputs": [
    {
     "name": "stdout",
     "output_type": "stream",
     "text": [
      "1 Physical GPUs, 1 Logical GPUs\n"
     ]
    }
   ],
   "source": [
    "gpus = tf.config.list_physical_devices('GPU')\n",
    "if gpus:\n",
    "  # Restrict TensorFlow to only allocate 1GB of memory on the first GPU\n",
    "  try:\n",
    "    tf.config.set_logical_device_configuration(\n",
    "        gpus[0],\n",
    "        [tf.config.LogicalDeviceConfiguration(memory_limit=1024*10)])\n",
    "    logical_gpus = tf.config.list_logical_devices('GPU')\n",
    "    print(len(gpus), \"Physical GPUs,\", len(logical_gpus), \"Logical GPUs\")\n",
    "  except RuntimeError as e:\n",
    "    # Virtual devices must be set before GPUs have been initialized\n",
    "    print(e)"
   ]
  },
  {
   "cell_type": "code",
   "execution_count": null,
   "metadata": {},
   "outputs": [],
   "source": []
  },
  {
   "cell_type": "markdown",
   "metadata": {},
   "source": [
    "# Functions"
   ]
  },
  {
   "cell_type": "code",
   "execution_count": 4,
   "metadata": {},
   "outputs": [],
   "source": [
    "def plot_confusion_matrix(cm: np.ndarray,\n",
    "                          target_names: list,\n",
    "                          title: str='Confusion matrix',\n",
    "                          cmap: str=None,\n",
    "                          normalize: bool=True):\n",
    "    '''given a sklearn confusion matrix (cm), make a nice plot\n",
    "\n",
    "    Args:\n",
    "        cm:           confusion matrix from sklearn.metrics.confusion_matrix\n",
    "\n",
    "        target_names: given classification classes such as [0, 1, 2]\n",
    "                      the class names, for example: ['high', 'medium', 'low']\n",
    "\n",
    "        title:        the text to display at the top of the matrix\n",
    "\n",
    "        cmap:         the gradient of the values displayed from matplotlib.pyplot.cm\n",
    "                      see http://matplotlib.org/examples/color/colormaps_reference.html\n",
    "                      plt.get_cmap('jet') or plt.cm.Blues\n",
    "\n",
    "        normalize:    If False, plot the raw numbers\n",
    "                      If True, plot the proportions\n",
    "    '''\n",
    "\n",
    "    accuracy = np.trace(cm) / np.sum(cm).astype('float')\n",
    "    misclass = 1 - accuracy\n",
    "\n",
    "    if cmap is None:\n",
    "        cmap = plt.get_cmap('Blues')\n",
    "\n",
    "    plt.figure(figsize=(5, 4))\n",
    "    plt.imshow(cm, interpolation='nearest', cmap=cmap)\n",
    "    plt.title(title)\n",
    "    plt.colorbar()\n",
    "\n",
    "    if target_names is not None:\n",
    "        tick_marks = np.arange(len(target_names))\n",
    "        plt.xticks(tick_marks, target_names, rotation=45)\n",
    "        plt.yticks(tick_marks, target_names)\n",
    "\n",
    "    if normalize:\n",
    "        cm = cm.astype('float') / cm.sum(axis=1)[:, np.newaxis]\n",
    "\n",
    "\n",
    "    thresh = cm.max() / 1.5 if normalize else cm.max() / 2\n",
    "    for i, j in itertools.product(range(cm.shape[0]), range(cm.shape[1])):\n",
    "        if normalize:\n",
    "            plt.text(j, i, \"{:0.4f}\".format(cm[i, j]),\n",
    "                     horizontalalignment=\"center\",\n",
    "                     color=\"white\" if cm[i, j] > thresh else \"black\")\n",
    "        else:\n",
    "            plt.text(j, i, \"{:,}\".format(cm[i, j]),\n",
    "                     horizontalalignment=\"center\",\n",
    "                     color=\"white\" if cm[i, j] > thresh else \"black\")\n",
    "\n",
    "\n",
    "    plt.tight_layout()\n",
    "    plt.ylabel('True label')\n",
    "    plt.xlabel('Predicted label\\naccuracy={:0.4f}; misclass={:0.4f}'.format(accuracy, misclass))\n",
    "    plt.show()"
   ]
  },
  {
   "cell_type": "markdown",
   "metadata": {},
   "source": [
    "# Parameters"
   ]
  },
  {
   "cell_type": "code",
   "execution_count": 5,
   "metadata": {},
   "outputs": [],
   "source": [
    "def evaluation(model_path, model_name, test_dataset, IMG_WIDTH=128, IMG_HEIGHT=128 ):\n",
    "    # load json and create model\n",
    "    json_file = open(str(Path(model_path , f'{model_name}.json')), 'r')\n",
    "    loaded_model_json = json_file.read()\n",
    "    json_file.close()\n",
    "\n",
    "    model = model_from_json(loaded_model_json)\n",
    "    # load weights into new model\n",
    "    model.load_weights(str(Path(model_path, f'{model_name}.h5')))\n",
    "    print(\"Loaded model from disk\") \n",
    "\n",
    "    # Datasets\n",
    "    cats = glob(\n",
    "        str(\n",
    "            Path(\n",
    "                test_dataset,\n",
    "                'Cat',\n",
    "                '*.jpg'\n",
    "            )\n",
    "        )\n",
    "    )\n",
    "\n",
    "    dogs = glob(\n",
    "        str(\n",
    "            Path(\n",
    "                test_dataset,\n",
    "                'Dog',\n",
    "                '*.jpg'\n",
    "            )\n",
    "        )\n",
    "    )\n",
    "\n",
    "    dataset = pd.concat(\n",
    "        [\n",
    "            pd.DataFrame(\n",
    "                {\n",
    "                    'path':cats,\n",
    "                    'class':[1]*len(cats)\n",
    "                }\n",
    "            ),\n",
    "            pd.DataFrame(\n",
    "                {\n",
    "                    'path':dogs,\n",
    "                    'class':[0]*len(dogs)\n",
    "                }\n",
    "            )\n",
    "        ]\n",
    "    )\n",
    "\n",
    "    # list\n",
    "    X_test = []\n",
    "    y_test = []\n",
    "\n",
    "    for idx, row in dataset.iterrows():\n",
    "        img = Image.open(row['path'])\n",
    "        img = img.resize((IMG_WIDTH, IMG_HEIGHT))\n",
    "        if model_name == 'Model_Depth Map':\n",
    "            img = img.convert('L')\n",
    "        img = np.array(img)\n",
    "        img = img * (1/255)\n",
    "        if model_name == 'Model_Depth Map':\n",
    "            img = np.expand_dims(img, -1)\n",
    "        elif model_name == 'Model_Color':\n",
    "            #img = np.expand_dims(img, 3)\n",
    "            pass\n",
    "\n",
    "        X_test.append(img)\n",
    "        y_test.append(row['class'])\n",
    "\n",
    "\n",
    "    X_test = np.array(X_test)\n",
    "    y_test = np.array(y_test)\n",
    "    y_test = np.expand_dims(y_test, -1)\n",
    "\n",
    "    # Predictions\n",
    "    with tf.device('/device:GPU:0'):\n",
    "     y_predictions = model.predict(x=X_test)\n",
    "\n",
    "    THRESHOLD = 0.5\n",
    "    y_predict_class = []\n",
    "\n",
    "    for prob in y_predictions:\n",
    "        index = np.argmax(prob)\n",
    "        if index == 1:\n",
    "            y_predict_class.append(1)\n",
    "        elif index == 0:\n",
    "            y_predict_class.append(0)\n",
    "    \n",
    "    confusion_matrix(\n",
    "            y_true = y_test.reshape(-1), \n",
    "            y_pred = y_predict_class\n",
    "        )\n",
    "\n",
    "    tn, fp, fn, tp = confusion_matrix(\n",
    "        y_true = y_test.reshape(-1), \n",
    "        y_pred = y_predict_class).ravel()\n",
    "    \n",
    "    recall_cats    = tp / (tp + fn)\n",
    "    precision_cats = tp / (tp + fp)\n",
    "    fscore_cats =  (2*recall_cats*precision_cats) /  (recall_cats + precision_cats)\n",
    "\n",
    "    recall_dogs    = tn / (fp + tn)\n",
    "    precision_dogs = tn / (tn + fn)\n",
    "    fscore_dogs =  (2*recall_dogs*precision_dogs) /  (recall_dogs + precision_dogs)\n",
    "\n",
    "    accuracy = (tp + tn) / sum([tn, fp, fn, tp])\n",
    "\n",
    "    plot_confusion_matrix(\n",
    "        cm = confusion_matrix(\n",
    "            y_true = y_test.reshape(-1), \n",
    "            y_pred = y_predict_class), \n",
    "        target_names=['0','1'],\n",
    "        normalize=False,\n",
    "        title='Matriz de Confusión: Clase Cat (1) & Clase Dog (0)',\n",
    "        cmap=plt.cm.Blues\n",
    "        )\n",
    "    \n",
    "    print(f'Recall Cat {recall_cats:,.2f}')\n",
    "    print(f'Precision Cat {precision_cats:,.2f}')\n",
    "    print(f'Fscore Cat {fscore_cats:,.2f}')\n",
    "    print('--------------------------------')\n",
    "    print(f'Recall Dog {recall_dogs:,.2f}')\n",
    "    print(f'Precision Dog {precision_dogs:,.2f}')\n",
    "    print(f'Fscore Dog {fscore_dogs:,.2f}')\n",
    "    print('--------------------------------')\n",
    "    print(f'Accuracy {accuracy:,.2f}')"
   ]
  },
  {
   "cell_type": "markdown",
   "metadata": {},
   "source": [
    "# Gray Scale Results"
   ]
  },
  {
   "cell_type": "code",
   "execution_count": 6,
   "metadata": {},
   "outputs": [],
   "source": [
    "# evaluation(\n",
    "#     model_path = Path(r'C:\\Users\\jean-\\OneDrive\\Documentos\\DSProject\\Cats And Dogs Classifier\\Models'), \n",
    "#     model_name = 'Model_Depth Map', \n",
    "#     test_dataset = Path(r'D:\\ML Datasets\\kagglecatsanddogs_5340\\Split\\Test\\Color')\n",
    "# )"
   ]
  },
  {
   "cell_type": "markdown",
   "metadata": {},
   "source": [
    "# Color results"
   ]
  },
  {
   "cell_type": "code",
   "execution_count": 7,
   "metadata": {},
   "outputs": [
    {
     "name": "stdout",
     "output_type": "stream",
     "text": [
      "Loaded model from disk\n",
      "71/71 [==============================] - 3s 7ms/step\n"
     ]
    },
    {
     "data": {
      "image/png": "[encoded data removed]",
      "text/plain": [
       "<Figure size 500x400 with 2 Axes>"
      ]
     },
     "metadata": {},
     "output_type": "display_data"
    },
    {
     "name": "stdout",
     "output_type": "stream",
     "text": [
      "Recall Cat 0.96\n",
      "Precision Cat 0.94\n",
      "Fscore Cat 0.95\n",
      "--------------------------------\n",
      "Recall Dog 0.94\n",
      "Precision Dog 0.96\n",
      "Fscore Dog 0.95\n",
      "--------------------------------\n",
      "Accuracy 0.95\n"
     ]
    }
   ],
   "source": [
    "RESCALE_IMG_WIDTH, RESCALE_IMG_HEIGHT = 128, 128\n",
    "\n",
    "evaluation(\n",
    "    model_path = Path(r'C:\\Users\\jean-\\OneDrive\\Documentos\\DSProject\\Cats And Dogs Classifier\\Models'), \n",
    "    model_name = f'Model_Color_{RESCALE_IMG_WIDTH}_{RESCALE_IMG_HEIGHT}', \n",
    "    test_dataset = Path(r'D:\\ML Datasets\\kagglecatsanddogs_5340\\Split\\Test\\Color',\n",
    "    IMG_WIDTH=RESCALE_IMG_WIDTH, \n",
    "    IMG_HEIGHT=RESCALE_IMG_HEIGHT)\n",
    ")"
   ]
  },
  {
   "cell_type": "markdown",
   "metadata": {},
   "source": [
    "# Edited Results\n"
   ]
  },
  {
   "cell_type": "code",
   "execution_count": 8,
   "metadata": {},
   "outputs": [
    {
     "name": "stdout",
     "output_type": "stream",
     "text": [
      "Loaded model from disk\n",
      "71/71 [==============================] - 1s 8ms/step\n"
     ]
    },
    {
     "data": {
      "image/png": "[encoded data removed]",
      "text/plain": [
       "<Figure size 500x400 with 2 Axes>"
      ]
     },
     "metadata": {},
     "output_type": "display_data"
    },
    {
     "name": "stdout",
     "output_type": "stream",
     "text": [
      "Recall Cat 0.95\n",
      "Precision Cat 0.96\n",
      "Fscore Cat 0.96\n",
      "--------------------------------\n",
      "Recall Dog 0.96\n",
      "Precision Dog 0.95\n",
      "Fscore Dog 0.96\n",
      "--------------------------------\n",
      "Accuracy 0.96\n"
     ]
    }
   ],
   "source": [
    "RESCALE_IMG_WIDTH, RESCALE_IMG_HEIGHT = 128, 128\n",
    "\n",
    "evaluation(\n",
    "    model_path = Path(r'C:\\Users\\jean-\\OneDrive\\Documentos\\DSProject\\Cats And Dogs Classifier\\Models'), \n",
    "    model_name = f'Model_Edited_{RESCALE_IMG_WIDTH}_{RESCALE_IMG_HEIGHT}', \n",
    "    test_dataset = Path(r'D:\\ML Datasets\\kagglecatsanddogs_5340\\Split\\Test\\Edited'),\n",
    "    IMG_WIDTH=RESCALE_IMG_WIDTH, \n",
    "    IMG_HEIGHT=RESCALE_IMG_HEIGHT\n",
    ")"
   ]
  }
 ],
 "metadata": {
  "kernelspec": {
   "display_name": "DeepLearningDev",
   "language": "python",
   "name": "python3"
  },
  "language_info": {
   "codemirror_mode": {
    "name": "ipython",
    "version": 3
   },
   "file_extension": ".py",
   "mimetype": "text/x-python",
   "name": "python",
   "nbconvert_exporter": "python",
   "pygments_lexer": "ipython3",
   "version": "3.10.14"
  }
 },
 "nbformat": 4,
 "nbformat_minor": 2
}
